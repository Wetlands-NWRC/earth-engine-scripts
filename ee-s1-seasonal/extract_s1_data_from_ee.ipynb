{
 "cells": [
  {
   "cell_type": "code",
   "execution_count": 1,
   "id": "initial_id",
   "metadata": {
    "collapsed": true,
    "ExecuteTime": {
     "end_time": "2023-08-29T16:25:05.792192500Z",
     "start_time": "2023-08-29T16:25:05.513653600Z"
    }
   },
   "outputs": [],
   "source": [
    "import ee\n",
    "from eeng.server.image_collection import Sentinel1Creator\n"
   ]
  },
  {
   "cell_type": "code",
   "execution_count": 2,
   "outputs": [],
   "source": [
    "ee.Initialize(project='ee-nwrc-geomatics')"
   ],
   "metadata": {
    "collapsed": false,
    "ExecuteTime": {
     "end_time": "2023-08-29T16:25:14.466716300Z",
     "start_time": "2023-08-29T16:25:05.795199100Z"
    }
   },
   "id": "c079869f6b1d9417"
  },
  {
   "cell_type": "code",
   "execution_count": 3,
   "outputs": [],
   "source": [
    "# create the target aoi\n",
    "poly_coords = [\n",
    "    [-77.485, 44.187],   \n",
    "    [-77.122, 44.187],   \n",
    "    [-77.122, 43.945],   \n",
    "    [-77.485, 43.945],   \n",
    "]\n",
    "\n",
    "polygon = ee.Geometry.Polygon(poly_coords)\n"
   ],
   "metadata": {
    "collapsed": false,
    "ExecuteTime": {
     "end_time": "2023-08-29T16:25:14.484389Z",
     "start_time": "2023-08-29T16:25:14.474646400Z"
    }
   },
   "id": "acde2997dd862668"
  },
  {
   "cell_type": "code",
   "execution_count": 4,
   "outputs": [],
   "source": [
    "# create the S1 Collection\n",
    "s1 = Sentinel1Creator().get_dv_col('2019-04-01', '2019-10-31', polygon)"
   ],
   "metadata": {
    "collapsed": false,
    "ExecuteTime": {
     "end_time": "2023-08-29T16:25:14.497386800Z",
     "start_time": "2023-08-29T16:25:14.484389Z"
    }
   },
   "id": "f3ad00f05b9481cb"
  },
  {
   "cell_type": "code",
   "execution_count": 5,
   "outputs": [
    {
     "name": "stdout",
     "output_type": "stream",
     "text": [
      "{'bands': [{'crs': 'EPSG:32618',\n",
      "            'crs_transform': [10,\n",
      "                              0,\n",
      "                              241646.48502605932,\n",
      "                              0,\n",
      "                              -10,\n",
      "                              4913442.818032815],\n",
      "            'data_type': {'precision': 'double', 'type': 'PixelType'},\n",
      "            'dimensions': [28583, 21505],\n",
      "            'id': 'VV'},\n",
      "           {'crs': 'EPSG:32618',\n",
      "            'crs_transform': [10,\n",
      "                              0,\n",
      "                              241646.48502605932,\n",
      "                              0,\n",
      "                              -10,\n",
      "                              4913442.818032815],\n",
      "            'data_type': {'precision': 'double', 'type': 'PixelType'},\n",
      "            'dimensions': [28583, 21505],\n",
      "            'id': 'VH'},\n",
      "           {'crs': 'EPSG:32618',\n",
      "            'crs_transform': [12611.34314194962,\n",
      "                              -3412.1335397846997,\n",
      "                              275312.42366324656,\n",
      "                              2015.5456924987957,\n",
      "                              20102.27531696949,\n",
      "                              4702002.357126975],\n",
      "            'data_type': {'precision': 'float', 'type': 'PixelType'},\n",
      "            'dimensions': [21, 10],\n",
      "            'id': 'angle'}],\n",
      " 'id': 'COPERNICUS/S1_GRD/S1A_IW_GRDH_1SDV_20190401T225953_20190401T230018_026603_02FBC0_E537',\n",
      " 'properties': {'GRD_Post_Processing_facility_country': 'United Kingdom',\n",
      "                'GRD_Post_Processing_facility_name': 'Copernicus S1 Core '\n",
      "                                                     'Ground Segment - UPA',\n",
      "                'GRD_Post_Processing_facility_org': 'ESA',\n",
      "                'GRD_Post_Processing_facility_site': 'Airbus DS-Newport',\n",
      "                'GRD_Post_Processing_software_name': 'Sentinel-1 IPF',\n",
      "                'GRD_Post_Processing_software_version': '002.91',\n",
      "                'GRD_Post_Processing_start': 1554174390630,\n",
      "                'GRD_Post_Processing_stop': 1554174968000,\n",
      "                'S1TBX_Calibration_vers': '6.0.4',\n",
      "                'S1TBX_SAR_Processing_vers': '6.0.4',\n",
      "                'SLC_Processing_facility_country': 'United Kingdom',\n",
      "                'SLC_Processing_facility_name': 'Copernicus S1 Core Ground '\n",
      "                                                'Segment - UPA',\n",
      "                'SLC_Processing_facility_org': 'ESA',\n",
      "                'SLC_Processing_facility_site': 'Airbus DS-Newport',\n",
      "                'SLC_Processing_software_name': 'Sentinel-1 IPF',\n",
      "                'SLC_Processing_software_version': '002.91',\n",
      "                'SLC_Processing_start': 1554174487000,\n",
      "                'SLC_Processing_stop': 1554174756000,\n",
      "                'SNAP_Graph_Processing_Framework_GPF_vers': '6.0.4',\n",
      "                'cycleNumber': 166,\n",
      "                'date': '2019-04-01',\n",
      "                'familyName': 'SENTINEL-1',\n",
      "                'instrument': 'Synthetic Aperture Radar',\n",
      "                'instrumentConfigurationID': 6,\n",
      "                'instrumentMode': 'IW',\n",
      "                'instrumentSwath': 'IW',\n",
      "                'missionDataTakeID': 195520,\n",
      "                'nssdcIdentifier': '2014-016A',\n",
      "                'orbitNumber_start': 26603,\n",
      "                'orbitNumber_stop': 26603,\n",
      "                'orbitProperties_ascendingNodeTime': 1554158902070,\n",
      "                'orbitProperties_pass': 'ASCENDING',\n",
      "                'phaseIdentifier': 1,\n",
      "                'platform_number': 'A',\n",
      "                'productClass': 'S',\n",
      "                'productClassDescription': 'SAR Standard L1 Product',\n",
      "                'productComposition': 'Slice',\n",
      "                'productTimelinessCategory': 'Fast-24h',\n",
      "                'productType': 'GRD',\n",
      "                'relativeOrbitNumber_start': 106,\n",
      "                'relativeOrbitNumber_stop': 106,\n",
      "                'resolution': 'H',\n",
      "                'resolution_meters': 10,\n",
      "                'segmentStartTime': 1554159465110,\n",
      "                'sliceNumber': 6,\n",
      "                'sliceProductFlag': 'true',\n",
      "                'startTimeANX': 691742.1,\n",
      "                'stopTimeANX': 716741.2,\n",
      "                'system:asset_size': 4053577647,\n",
      "                'system:footprint': {'coordinates': [[-78.02794038964069,\n",
      "                                                      43.61720499484977],\n",
      "                                                     [-77.94120639621994,\n",
      "                                                      43.29391954240763],\n",
      "                                                     [-77.76681948060241,\n",
      "                                                      42.632024226617844],\n",
      "                                                     [-77.72732934897492,\n",
      "                                                      42.49111281599473],\n",
      "                                                     [-77.71157432704285,\n",
      "                                                      42.44068994134173],\n",
      "                                                     [-74.6895231187029,\n",
      "                                                      42.829767751592854],\n",
      "                                                     [-74.76671105521527,\n",
      "                                                      43.22199897699182],\n",
      "                                                     [-74.82025188674929,\n",
      "                                                      43.48007599073145],\n",
      "                                                     [-74.846649866638,\n",
      "                                                      43.603022520500346],\n",
      "                                                     [-74.8960702360705,\n",
      "                                                      43.828897538875445],\n",
      "                                                     [-74.93133319081171,\n",
      "                                                      43.98828893533965],\n",
      "                                                     [-74.98927430531316,\n",
      "                                                      44.24463421879214],\n",
      "                                                     [-74.99866698482825,\n",
      "                                                      44.28406889373557],\n",
      "                                                     [-75.00581359085808,\n",
      "                                                      44.31269914226371],\n",
      "                                                     [-75.01038565509212,\n",
      "                                                      44.33019507701966],\n",
      "                                                     [-76.47656927869323,\n",
      "                                                      44.15740359310641],\n",
      "                                                     [-77.39805767905123,\n",
      "                                                      44.03862683392207],\n",
      "                                                     [-78.11577091833493,\n",
      "                                                      43.940630185467114],\n",
      "                                                     [-78.02794038964069,\n",
      "                                                      43.61720499484977]],\n",
      "                                     'type': 'LinearRing'},\n",
      "                'system:index': 'S1A_IW_GRDH_1SDV_20190401T225953_20190401T230018_026603_02FBC0_E537',\n",
      "                'system:time_end': 1554159593000,\n",
      "                'system:time_start': 1554159593000,\n",
      "                'system_id': 'COPERNICUS/S1_GRD/S1A_IW_GRDH_1SDV_20190401T225953_20190401T230018_026603_02FBC0_E537',\n",
      "                'totalSlices': 7,\n",
      "                'transmitterReceiverPolarisation': ['VV', 'VH']},\n",
      " 'type': 'Image',\n",
      " 'version': 1693326386121466}\n"
     ]
    }
   ],
   "source": [
    "from pprint import pprint\n",
    "s1 = s1.addFDate().addPrefix()\n",
    "pprint(s1.first().getInfo())"
   ],
   "metadata": {
    "collapsed": false,
    "ExecuteTime": {
     "end_time": "2023-08-29T16:25:15.135646600Z",
     "start_time": "2023-08-29T16:25:14.494387200Z"
    }
   },
   "id": "a8a09f05016ba2f5"
  },
  {
   "cell_type": "code",
   "execution_count": 6,
   "outputs": [
    {
     "name": "stdout",
     "output_type": "stream",
     "text": [
      "{'geometry': {'coordinates': [[[-78.02794038964069, 43.61720499484977],\n",
      "                               [-77.94120639621994, 43.29391954240763],\n",
      "                               [-77.76681948060241, 42.632024226617844],\n",
      "                               [-77.72732934897492, 42.49111281599473],\n",
      "                               [-77.71157432704285, 42.44068994134173],\n",
      "                               [-74.6895231187029, 42.829767751592854],\n",
      "                               [-74.76671105521527, 43.22199897699182],\n",
      "                               [-74.82025188674929, 43.48007599073145],\n",
      "                               [-74.846649866638, 43.603022520500346],\n",
      "                               [-74.8960702360705, 43.828897538875445],\n",
      "                               [-74.93133319081171, 43.98828893533965],\n",
      "                               [-74.98927430531316, 44.24463421879214],\n",
      "                               [-74.99866698482825, 44.28406889373557],\n",
      "                               [-75.00581359085808, 44.31269914226371],\n",
      "                               [-75.01038565509212, 44.33019507701966],\n",
      "                               [-76.47656927869323, 44.15740359310641],\n",
      "                               [-77.39805767905123, 44.03862683392207],\n",
      "                               [-78.11577091833493, 43.940630185467114],\n",
      "                               [-78.02794038964069, 43.61720499484977]]],\n",
      "              'type': 'Polygon'},\n",
      " 'id': '0',\n",
      " 'properties': {'GRD_Post_Processing_facility_country': 'United Kingdom',\n",
      "                'GRD_Post_Processing_facility_name': 'Copernicus S1 Core '\n",
      "                                                     'Ground Segment - UPA',\n",
      "                'GRD_Post_Processing_facility_org': 'ESA',\n",
      "                'GRD_Post_Processing_facility_site': 'Airbus DS-Newport',\n",
      "                'GRD_Post_Processing_software_name': 'Sentinel-1 IPF',\n",
      "                'GRD_Post_Processing_software_version': '002.91',\n",
      "                'GRD_Post_Processing_start': 1554174390630,\n",
      "                'GRD_Post_Processing_stop': 1554174968000,\n",
      "                'S1TBX_Calibration_vers': '6.0.4',\n",
      "                'S1TBX_SAR_Processing_vers': '6.0.4',\n",
      "                'SLC_Processing_facility_country': 'United Kingdom',\n",
      "                'SLC_Processing_facility_name': 'Copernicus S1 Core Ground '\n",
      "                                                'Segment - UPA',\n",
      "                'SLC_Processing_facility_org': 'ESA',\n",
      "                'SLC_Processing_facility_site': 'Airbus DS-Newport',\n",
      "                'SLC_Processing_software_name': 'Sentinel-1 IPF',\n",
      "                'SLC_Processing_software_version': '002.91',\n",
      "                'SLC_Processing_start': 1554174487000,\n",
      "                'SLC_Processing_stop': 1554174756000,\n",
      "                'SNAP_Graph_Processing_Framework_GPF_vers': '6.0.4',\n",
      "                'cycleNumber': 166,\n",
      "                'date': '2019-04-01',\n",
      "                'familyName': 'SENTINEL-1',\n",
      "                'instrument': 'Synthetic Aperture Radar',\n",
      "                'instrumentConfigurationID': 6,\n",
      "                'instrumentMode': 'IW',\n",
      "                'instrumentSwath': 'IW',\n",
      "                'missionDataTakeID': 195520,\n",
      "                'nssdcIdentifier': '2014-016A',\n",
      "                'orbitNumber_start': 26603,\n",
      "                'orbitNumber_stop': 26603,\n",
      "                'orbitProperties_ascendingNodeTime': 1554158902070,\n",
      "                'orbitProperties_pass': 'ASCENDING',\n",
      "                'phaseIdentifier': 1,\n",
      "                'platform_number': 'A',\n",
      "                'productClass': 'S',\n",
      "                'productClassDescription': 'SAR Standard L1 Product',\n",
      "                'productComposition': 'Slice',\n",
      "                'productTimelinessCategory': 'Fast-24h',\n",
      "                'productType': 'GRD',\n",
      "                'relativeOrbitNumber_start': 106,\n",
      "                'relativeOrbitNumber_stop': 106,\n",
      "                'resolution': 'H',\n",
      "                'resolution_meters': 10,\n",
      "                'segmentStartTime': 1554159465110,\n",
      "                'sliceNumber': 6,\n",
      "                'sliceProductFlag': 'true',\n",
      "                'startTimeANX': 691742.1,\n",
      "                'stopTimeANX': 716741.2,\n",
      "                'system_id': 'COPERNICUS/S1_GRD/S1A_IW_GRDH_1SDV_20190401T225953_20190401T230018_026603_02FBC0_E537',\n",
      "                'totalSlices': 7,\n",
      "                'transmitterReceiverPolarisation': ['VV', 'VH']},\n",
      " 'type': 'Feature'}\n"
     ]
    }
   ],
   "source": [
    "s1_fc = s1.toFeatureCollection()\n",
    "pprint(s1_fc.first().getInfo())"
   ],
   "metadata": {
    "collapsed": false,
    "ExecuteTime": {
     "end_time": "2023-08-29T16:25:16.010725500Z",
     "start_time": "2023-08-29T16:25:15.123563200Z"
    }
   },
   "id": "578ccb29ae87483b"
  },
  {
   "cell_type": "code",
   "execution_count": 7,
   "outputs": [],
   "source": [
    "try:\n",
    "    response = s1_fc.getInfo()\n",
    "except ee.EEException as e:\n",
    "    print(e)\n"
   ],
   "metadata": {
    "collapsed": false,
    "ExecuteTime": {
     "end_time": "2023-08-29T16:25:16.808098400Z",
     "start_time": "2023-08-29T16:25:16.010725500Z"
    }
   },
   "id": "1b855341b010a9ee"
  },
  {
   "cell_type": "code",
   "execution_count": 8,
   "outputs": [
    {
     "data": {
      "text/plain": "                                            geometry  \\\n0  POLYGON ((-78.02794 43.61720, -77.94121 43.293...   \n1  POLYGON ((-75.48140 46.47212, -75.48508 46.472...   \n2  POLYGON ((-80.33901 44.57888, -80.33720 44.572...   \n3  POLYGON ((-77.61002 44.01024, -78.11469 43.940...   \n4  POLYGON ((-78.58994 45.70790, -78.52151 45.458...   \n\n  GRD_Post_Processing_facility_country  \\\n0                       United Kingdom   \n1                       United Kingdom   \n2                       United Kingdom   \n3                              Germany   \n4                              Germany   \n\n         GRD_Post_Processing_facility_name GRD_Post_Processing_facility_org  \\\n0  Copernicus S1 Core Ground Segment - UPA                              ESA   \n1  Copernicus S1 Core Ground Segment - UPA                              ESA   \n2  Copernicus S1 Core Ground Segment - UPA                              ESA   \n3  Copernicus S1 Core Ground Segment - DPA                              ESA   \n4  Copernicus S1 Core Ground Segment - DPA                              ESA   \n\n  GRD_Post_Processing_facility_site GRD_Post_Processing_software_name  \\\n0                 Airbus DS-Newport                    Sentinel-1 IPF   \n1                 Airbus DS-Newport                    Sentinel-1 IPF   \n2                 Airbus DS-Newport                    Sentinel-1 IPF   \n3              DLR-Oberpfaffenhofen                    Sentinel-1 IPF   \n4              DLR-Oberpfaffenhofen                    Sentinel-1 IPF   \n\n  GRD_Post_Processing_software_version  GRD_Post_Processing_start  \\\n0                               002.91              1554174390630   \n1                               002.91              1554174398270   \n2                               002.91              1554619486190   \n3                               002.91              1555211633040   \n4                               002.91              1555211645420   \n\n   GRD_Post_Processing_stop S1TBX_Calibration_vers  ... resolution  \\\n0             1554174968000                  6.0.4  ...          H   \n1             1554175158000                  6.0.4  ...          H   \n2             1554620095000                  6.0.4  ...          H   \n3             1555212210000                  6.0.4  ...          H   \n4             1555212411000                  6.0.4  ...          H   \n\n  resolution_meters segmentStartTime sliceNumber sliceProductFlag  \\\n0                10    1554159465110           6             true   \n1                10    1554159465110           7             true   \n2                10    1554591522040          24             true   \n3                10    1555196265290           6             true   \n4                10    1555196265290           7             true   \n\n  startTimeANX stopTimeANX                                          system_id  \\\n0     691742.1    716741.2  COPERNICUS/S1_GRD/S1A_IW_GRDH_1SDV_20190401T22...   \n1     716742.8    752509.3  COPERNICUS/S1_GRD/S1A_IW_GRDH_1SDV_20190401T23...   \n2     704928.6    729430.1  COPERNICUS/S1_GRD/S1A_IW_GRDH_1SDV_20190406T23...   \n3     691735.2    716734.1  COPERNICUS/S1_GRD/S1A_IW_GRDH_1SDV_20190413T22...   \n4     716735.6    752504.8  COPERNICUS/S1_GRD/S1A_IW_GRDH_1SDV_20190413T23...   \n\n   totalSlices transmitterReceiverPolarisation  \n0            7                          VV, VH  \n1            7                          VV, VH  \n2           24                          VV, VH  \n3            7                          VV, VH  \n4            7                          VV, VH  \n\n[5 rows x 52 columns]",
      "text/html": "<div>\n<style scoped>\n    .dataframe tbody tr th:only-of-type {\n        vertical-align: middle;\n    }\n\n    .dataframe tbody tr th {\n        vertical-align: top;\n    }\n\n    .dataframe thead th {\n        text-align: right;\n    }\n</style>\n<table border=\"1\" class=\"dataframe\">\n  <thead>\n    <tr style=\"text-align: right;\">\n      <th></th>\n      <th>geometry</th>\n      <th>GRD_Post_Processing_facility_country</th>\n      <th>GRD_Post_Processing_facility_name</th>\n      <th>GRD_Post_Processing_facility_org</th>\n      <th>GRD_Post_Processing_facility_site</th>\n      <th>GRD_Post_Processing_software_name</th>\n      <th>GRD_Post_Processing_software_version</th>\n      <th>GRD_Post_Processing_start</th>\n      <th>GRD_Post_Processing_stop</th>\n      <th>S1TBX_Calibration_vers</th>\n      <th>...</th>\n      <th>resolution</th>\n      <th>resolution_meters</th>\n      <th>segmentStartTime</th>\n      <th>sliceNumber</th>\n      <th>sliceProductFlag</th>\n      <th>startTimeANX</th>\n      <th>stopTimeANX</th>\n      <th>system_id</th>\n      <th>totalSlices</th>\n      <th>transmitterReceiverPolarisation</th>\n    </tr>\n  </thead>\n  <tbody>\n    <tr>\n      <th>0</th>\n      <td>POLYGON ((-78.02794 43.61720, -77.94121 43.293...</td>\n      <td>United Kingdom</td>\n      <td>Copernicus S1 Core Ground Segment - UPA</td>\n      <td>ESA</td>\n      <td>Airbus DS-Newport</td>\n      <td>Sentinel-1 IPF</td>\n      <td>002.91</td>\n      <td>1554174390630</td>\n      <td>1554174968000</td>\n      <td>6.0.4</td>\n      <td>...</td>\n      <td>H</td>\n      <td>10</td>\n      <td>1554159465110</td>\n      <td>6</td>\n      <td>true</td>\n      <td>691742.1</td>\n      <td>716741.2</td>\n      <td>COPERNICUS/S1_GRD/S1A_IW_GRDH_1SDV_20190401T22...</td>\n      <td>7</td>\n      <td>VV, VH</td>\n    </tr>\n    <tr>\n      <th>1</th>\n      <td>POLYGON ((-75.48140 46.47212, -75.48508 46.472...</td>\n      <td>United Kingdom</td>\n      <td>Copernicus S1 Core Ground Segment - UPA</td>\n      <td>ESA</td>\n      <td>Airbus DS-Newport</td>\n      <td>Sentinel-1 IPF</td>\n      <td>002.91</td>\n      <td>1554174398270</td>\n      <td>1554175158000</td>\n      <td>6.0.4</td>\n      <td>...</td>\n      <td>H</td>\n      <td>10</td>\n      <td>1554159465110</td>\n      <td>7</td>\n      <td>true</td>\n      <td>716742.8</td>\n      <td>752509.3</td>\n      <td>COPERNICUS/S1_GRD/S1A_IW_GRDH_1SDV_20190401T23...</td>\n      <td>7</td>\n      <td>VV, VH</td>\n    </tr>\n    <tr>\n      <th>2</th>\n      <td>POLYGON ((-80.33901 44.57888, -80.33720 44.572...</td>\n      <td>United Kingdom</td>\n      <td>Copernicus S1 Core Ground Segment - UPA</td>\n      <td>ESA</td>\n      <td>Airbus DS-Newport</td>\n      <td>Sentinel-1 IPF</td>\n      <td>002.91</td>\n      <td>1554619486190</td>\n      <td>1554620095000</td>\n      <td>6.0.4</td>\n      <td>...</td>\n      <td>H</td>\n      <td>10</td>\n      <td>1554591522040</td>\n      <td>24</td>\n      <td>true</td>\n      <td>704928.6</td>\n      <td>729430.1</td>\n      <td>COPERNICUS/S1_GRD/S1A_IW_GRDH_1SDV_20190406T23...</td>\n      <td>24</td>\n      <td>VV, VH</td>\n    </tr>\n    <tr>\n      <th>3</th>\n      <td>POLYGON ((-77.61002 44.01024, -78.11469 43.940...</td>\n      <td>Germany</td>\n      <td>Copernicus S1 Core Ground Segment - DPA</td>\n      <td>ESA</td>\n      <td>DLR-Oberpfaffenhofen</td>\n      <td>Sentinel-1 IPF</td>\n      <td>002.91</td>\n      <td>1555211633040</td>\n      <td>1555212210000</td>\n      <td>6.0.4</td>\n      <td>...</td>\n      <td>H</td>\n      <td>10</td>\n      <td>1555196265290</td>\n      <td>6</td>\n      <td>true</td>\n      <td>691735.2</td>\n      <td>716734.1</td>\n      <td>COPERNICUS/S1_GRD/S1A_IW_GRDH_1SDV_20190413T22...</td>\n      <td>7</td>\n      <td>VV, VH</td>\n    </tr>\n    <tr>\n      <th>4</th>\n      <td>POLYGON ((-78.58994 45.70790, -78.52151 45.458...</td>\n      <td>Germany</td>\n      <td>Copernicus S1 Core Ground Segment - DPA</td>\n      <td>ESA</td>\n      <td>DLR-Oberpfaffenhofen</td>\n      <td>Sentinel-1 IPF</td>\n      <td>002.91</td>\n      <td>1555211645420</td>\n      <td>1555212411000</td>\n      <td>6.0.4</td>\n      <td>...</td>\n      <td>H</td>\n      <td>10</td>\n      <td>1555196265290</td>\n      <td>7</td>\n      <td>true</td>\n      <td>716735.6</td>\n      <td>752504.8</td>\n      <td>COPERNICUS/S1_GRD/S1A_IW_GRDH_1SDV_20190413T23...</td>\n      <td>7</td>\n      <td>VV, VH</td>\n    </tr>\n  </tbody>\n</table>\n<p>5 rows × 52 columns</p>\n</div>"
     },
     "execution_count": 8,
     "metadata": {},
     "output_type": "execute_result"
    }
   ],
   "source": [
    "import geopandas as gpd\n",
    "import os\n",
    "\n",
    "if not os.path.exists('data/raw'):\n",
    "    os.makedirs('data/raw')\n",
    "\n",
    "gdf = gpd.GeoDataFrame.from_features(s1_fc.getInfo()['features'])\n",
    "gdf[\"transmitterReceiverPolarisation\"] = gdf[\"transmitterReceiverPolarisation\"].apply(\", \".join)\n",
    "gdf.head()\n"
   ],
   "metadata": {
    "collapsed": false,
    "ExecuteTime": {
     "end_time": "2023-08-29T16:25:18.260753Z",
     "start_time": "2023-08-29T16:25:16.817187500Z"
    }
   },
   "id": "b0840140ce5c7601"
  },
  {
   "cell_type": "code",
   "execution_count": 9,
   "outputs": [
    {
     "name": "stderr",
     "output_type": "stream",
     "text": [
      "C:\\Users\\rhamilton\\AppData\\Local\\Temp\\ipykernel_6880\\3322091617.py:3: UserWarning: Column names longer than 10 characters will be truncated when saved to ESRI Shapefile.\n",
      "  gdf.to_file(\"data/raw/s1.shp\", driver='ESRI Shapefile')\n"
     ]
    }
   ],
   "source": [
    "gdf.set_crs(epsg=4326, inplace=True)\n",
    "gdf.to_crs(epsg=3857, inplace=True)\n",
    "gdf.to_file(\"data/raw/s1.shp\", driver='ESRI Shapefile')"
   ],
   "metadata": {
    "collapsed": false,
    "ExecuteTime": {
     "end_time": "2023-08-29T16:25:18.464076800Z",
     "start_time": "2023-08-29T16:25:18.251750700Z"
    }
   },
   "id": "5b37e6e78805b402"
  },
  {
   "cell_type": "code",
   "execution_count": 9,
   "outputs": [],
   "source": [],
   "metadata": {
    "collapsed": false,
    "ExecuteTime": {
     "end_time": "2023-08-29T16:25:18.471881700Z",
     "start_time": "2023-08-29T16:25:18.466078500Z"
    }
   },
   "id": "5cc6c7645026859d"
  }
 ],
 "metadata": {
  "kernelspec": {
   "display_name": "Python 3",
   "language": "python",
   "name": "python3"
  },
  "language_info": {
   "codemirror_mode": {
    "name": "ipython",
    "version": 2
   },
   "file_extension": ".py",
   "mimetype": "text/x-python",
   "name": "python",
   "nbconvert_exporter": "python",
   "pygments_lexer": "ipython2",
   "version": "2.7.6"
  }
 },
 "nbformat": 4,
 "nbformat_minor": 5
}
