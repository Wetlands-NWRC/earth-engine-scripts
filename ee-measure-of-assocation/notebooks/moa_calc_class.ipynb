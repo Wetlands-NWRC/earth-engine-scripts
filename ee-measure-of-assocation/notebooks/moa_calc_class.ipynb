{
 "cells": [
  {
   "cell_type": "code",
   "execution_count": 1,
   "id": "initial_id",
   "metadata": {
    "collapsed": true,
    "ExecuteTime": {
     "end_time": "2023-08-25T17:06:37.426013600Z",
     "start_time": "2023-08-25T17:06:34.990630900Z"
    }
   },
   "outputs": [],
   "source": [
    "import pandas as pd"
   ]
  },
  {
   "cell_type": "code",
   "execution_count": 27,
   "outputs": [],
   "source": [
    "class MOACalculator:\n",
    "    def __init__(self, label_series: pd.Series, versus_series: pd.Series):\n",
    "        self.label_series = label_series\n",
    "        self.versus_series = versus_series\n",
    "    \n",
    "    @property\n",
    "    def label_mean(self):\n",
    "        return self.label_series.mean()\n",
    "    \n",
    "    @property\n",
    "    def versus_mean(self):\n",
    "        return self.versus_series.mean()\n",
    "    \n",
    "    @property\n",
    "    def population_std(self):\n",
    "        return pd.concat([self.label_series, self.versus_series]).std()\n",
    "    \n",
    "    def calc(self):\n",
    "        return (self.label_mean - self.versus_mean) / self.population_std\n"
   ],
   "metadata": {
    "collapsed": false,
    "ExecuteTime": {
     "end_time": "2023-08-25T17:26:42.156425300Z",
     "start_time": "2023-08-25T17:26:42.143296500Z"
    }
   },
   "id": "c8bb585fdfd2ae3d"
  },
  {
   "cell_type": "code",
   "execution_count": 27,
   "outputs": [],
   "source": [],
   "metadata": {
    "collapsed": false,
    "ExecuteTime": {
     "end_time": "2023-08-25T17:26:42.826644100Z",
     "start_time": "2023-08-25T17:26:42.826644100Z"
    }
   },
   "id": "2a62c041fd436961"
  },
  {
   "cell_type": "code",
   "execution_count": 28,
   "outputs": [
    {
     "data": {
      "text/plain": "     system:index  Brightness  Brightness_1  Brightness_2   Elevation  \\\n0             0_0   2219.2740     3644.3118     2983.1853  183.128712   \n1             1_0    326.8218      783.0737      752.4232  114.561850   \n2             2_0   3032.6624     2831.0404     2846.3911   87.621972   \n3             3_0   3698.9892     3375.2343     3135.9292   93.100778   \n4             4_0    329.4975      339.3223      241.6455  160.380712   \n...           ...         ...           ...           ...         ...   \n5591       5643_0   3817.1554     3448.5995     3201.4238  177.161920   \n5592       5644_0   2987.3919     2913.7741     2855.2119  100.167942   \n5593       5645_0   3737.0335     3203.0217     3176.7917  153.829762   \n5594       5646_0   3401.2935     3259.6997     2886.5738   47.552816   \n5595       5647_0   3410.0164     3241.9534     2374.9601  103.980295   \n\n      GaussianCurvature  Greenness  Greenness_1  Greenness_2           HH  \\\n0         -1.111947e-07  1383.5968    2389.0840    1532.5927  5351.000000   \n1         -3.356085e-08     9.3434     333.9811     271.9726  2170.222222   \n2         -1.036272e-07  1501.6973    1629.3110    1607.4224  6217.555556   \n3         -1.970626e-07  2570.6233    2576.7657    2421.1097  5447.444444   \n4          1.447277e-07   -23.9396      56.7423      66.7478  1600.111111   \n...                 ...        ...          ...          ...          ...   \n5591       6.706069e-09  2252.9583    2604.5884    2298.4458  5090.888889   \n5592       9.204048e-09  1705.2172    1983.9280    1847.6640  7395.666667   \n5593      -2.672850e-07   719.2948    1292.1885     976.3423  7850.333333   \n5594       3.426760e-07  2347.6762    2396.6767    1922.7331  6598.444444   \n5595      -2.298856e-07  1782.7111    1968.6275    1259.7834  8767.000000   \n\n      ...  cos_3_coeff  isTraining   phase_1   phase_2   phase_3  sin_1_coeff  \\\n0     ...     0.508938           1 -0.569459  2.017689  1.817476     0.406582   \n1     ...     0.505032           1 -0.949492  0.071245  2.007185     0.360472   \n2     ...     0.505744           1 -0.572481  1.427724  1.871911     0.450827   \n3     ...     0.500680           1 -0.763917  1.238851  2.053983     0.445311   \n4     ...     0.503306           1 -1.011212 -1.001987  1.982560     0.352237   \n...   ...          ...         ...       ...       ...       ...          ...   \n5591  ...     0.498468           0 -0.604765  0.797488 -0.879256     0.404026   \n5592  ...     0.504025           0 -0.619140  0.928427  1.921965     0.439265   \n5593  ...     0.509546           0 -0.728614 -0.232904  1.933536     0.428897   \n5594  ...     0.506532           0 -0.604742  1.195143  1.759720     0.437927   \n5595  ...     0.497113           0 -0.659807  0.486571 -0.633936     0.432983   \n\n      sin_2_coeff  sin_3_coeff   t_coeff  \\\n0        0.457142     0.483894  0.501836   \n1        0.524289     0.460664  0.493707   \n2        0.496408     0.486329  0.501026   \n3        0.503122     0.479773  0.499924   \n4        0.428258     0.481460  0.503251   \n...           ...          ...       ...   \n5591     0.509490     0.496198  0.503228   \n5592     0.518652     0.486880  0.502250   \n5593     0.500848     0.466104  0.503478   \n5594     0.504844     0.490891  0.499392   \n5595     0.518627     0.497582  0.502251   \n\n                                        .geo  \n0     {\"type\":\"MultiPoint\",\"coordinates\":[]}  \n1     {\"type\":\"MultiPoint\",\"coordinates\":[]}  \n2     {\"type\":\"MultiPoint\",\"coordinates\":[]}  \n3     {\"type\":\"MultiPoint\",\"coordinates\":[]}  \n4     {\"type\":\"MultiPoint\",\"coordinates\":[]}  \n...                                      ...  \n5591  {\"type\":\"MultiPoint\",\"coordinates\":[]}  \n5592  {\"type\":\"MultiPoint\",\"coordinates\":[]}  \n5593  {\"type\":\"MultiPoint\",\"coordinates\":[]}  \n5594  {\"type\":\"MultiPoint\",\"coordinates\":[]}  \n5595  {\"type\":\"MultiPoint\",\"coordinates\":[]}  \n\n[5596 rows x 81 columns]",
      "text/html": "<div>\n<style scoped>\n    .dataframe tbody tr th:only-of-type {\n        vertical-align: middle;\n    }\n\n    .dataframe tbody tr th {\n        vertical-align: top;\n    }\n\n    .dataframe thead th {\n        text-align: right;\n    }\n</style>\n<table border=\"1\" class=\"dataframe\">\n  <thead>\n    <tr style=\"text-align: right;\">\n      <th></th>\n      <th>system:index</th>\n      <th>Brightness</th>\n      <th>Brightness_1</th>\n      <th>Brightness_2</th>\n      <th>Elevation</th>\n      <th>GaussianCurvature</th>\n      <th>Greenness</th>\n      <th>Greenness_1</th>\n      <th>Greenness_2</th>\n      <th>HH</th>\n      <th>...</th>\n      <th>cos_3_coeff</th>\n      <th>isTraining</th>\n      <th>phase_1</th>\n      <th>phase_2</th>\n      <th>phase_3</th>\n      <th>sin_1_coeff</th>\n      <th>sin_2_coeff</th>\n      <th>sin_3_coeff</th>\n      <th>t_coeff</th>\n      <th>.geo</th>\n    </tr>\n  </thead>\n  <tbody>\n    <tr>\n      <th>0</th>\n      <td>0_0</td>\n      <td>2219.2740</td>\n      <td>3644.3118</td>\n      <td>2983.1853</td>\n      <td>183.128712</td>\n      <td>-1.111947e-07</td>\n      <td>1383.5968</td>\n      <td>2389.0840</td>\n      <td>1532.5927</td>\n      <td>5351.000000</td>\n      <td>...</td>\n      <td>0.508938</td>\n      <td>1</td>\n      <td>-0.569459</td>\n      <td>2.017689</td>\n      <td>1.817476</td>\n      <td>0.406582</td>\n      <td>0.457142</td>\n      <td>0.483894</td>\n      <td>0.501836</td>\n      <td>{\"type\":\"MultiPoint\",\"coordinates\":[]}</td>\n    </tr>\n    <tr>\n      <th>1</th>\n      <td>1_0</td>\n      <td>326.8218</td>\n      <td>783.0737</td>\n      <td>752.4232</td>\n      <td>114.561850</td>\n      <td>-3.356085e-08</td>\n      <td>9.3434</td>\n      <td>333.9811</td>\n      <td>271.9726</td>\n      <td>2170.222222</td>\n      <td>...</td>\n      <td>0.505032</td>\n      <td>1</td>\n      <td>-0.949492</td>\n      <td>0.071245</td>\n      <td>2.007185</td>\n      <td>0.360472</td>\n      <td>0.524289</td>\n      <td>0.460664</td>\n      <td>0.493707</td>\n      <td>{\"type\":\"MultiPoint\",\"coordinates\":[]}</td>\n    </tr>\n    <tr>\n      <th>2</th>\n      <td>2_0</td>\n      <td>3032.6624</td>\n      <td>2831.0404</td>\n      <td>2846.3911</td>\n      <td>87.621972</td>\n      <td>-1.036272e-07</td>\n      <td>1501.6973</td>\n      <td>1629.3110</td>\n      <td>1607.4224</td>\n      <td>6217.555556</td>\n      <td>...</td>\n      <td>0.505744</td>\n      <td>1</td>\n      <td>-0.572481</td>\n      <td>1.427724</td>\n      <td>1.871911</td>\n      <td>0.450827</td>\n      <td>0.496408</td>\n      <td>0.486329</td>\n      <td>0.501026</td>\n      <td>{\"type\":\"MultiPoint\",\"coordinates\":[]}</td>\n    </tr>\n    <tr>\n      <th>3</th>\n      <td>3_0</td>\n      <td>3698.9892</td>\n      <td>3375.2343</td>\n      <td>3135.9292</td>\n      <td>93.100778</td>\n      <td>-1.970626e-07</td>\n      <td>2570.6233</td>\n      <td>2576.7657</td>\n      <td>2421.1097</td>\n      <td>5447.444444</td>\n      <td>...</td>\n      <td>0.500680</td>\n      <td>1</td>\n      <td>-0.763917</td>\n      <td>1.238851</td>\n      <td>2.053983</td>\n      <td>0.445311</td>\n      <td>0.503122</td>\n      <td>0.479773</td>\n      <td>0.499924</td>\n      <td>{\"type\":\"MultiPoint\",\"coordinates\":[]}</td>\n    </tr>\n    <tr>\n      <th>4</th>\n      <td>4_0</td>\n      <td>329.4975</td>\n      <td>339.3223</td>\n      <td>241.6455</td>\n      <td>160.380712</td>\n      <td>1.447277e-07</td>\n      <td>-23.9396</td>\n      <td>56.7423</td>\n      <td>66.7478</td>\n      <td>1600.111111</td>\n      <td>...</td>\n      <td>0.503306</td>\n      <td>1</td>\n      <td>-1.011212</td>\n      <td>-1.001987</td>\n      <td>1.982560</td>\n      <td>0.352237</td>\n      <td>0.428258</td>\n      <td>0.481460</td>\n      <td>0.503251</td>\n      <td>{\"type\":\"MultiPoint\",\"coordinates\":[]}</td>\n    </tr>\n    <tr>\n      <th>...</th>\n      <td>...</td>\n      <td>...</td>\n      <td>...</td>\n      <td>...</td>\n      <td>...</td>\n      <td>...</td>\n      <td>...</td>\n      <td>...</td>\n      <td>...</td>\n      <td>...</td>\n      <td>...</td>\n      <td>...</td>\n      <td>...</td>\n      <td>...</td>\n      <td>...</td>\n      <td>...</td>\n      <td>...</td>\n      <td>...</td>\n      <td>...</td>\n      <td>...</td>\n      <td>...</td>\n    </tr>\n    <tr>\n      <th>5591</th>\n      <td>5643_0</td>\n      <td>3817.1554</td>\n      <td>3448.5995</td>\n      <td>3201.4238</td>\n      <td>177.161920</td>\n      <td>6.706069e-09</td>\n      <td>2252.9583</td>\n      <td>2604.5884</td>\n      <td>2298.4458</td>\n      <td>5090.888889</td>\n      <td>...</td>\n      <td>0.498468</td>\n      <td>0</td>\n      <td>-0.604765</td>\n      <td>0.797488</td>\n      <td>-0.879256</td>\n      <td>0.404026</td>\n      <td>0.509490</td>\n      <td>0.496198</td>\n      <td>0.503228</td>\n      <td>{\"type\":\"MultiPoint\",\"coordinates\":[]}</td>\n    </tr>\n    <tr>\n      <th>5592</th>\n      <td>5644_0</td>\n      <td>2987.3919</td>\n      <td>2913.7741</td>\n      <td>2855.2119</td>\n      <td>100.167942</td>\n      <td>9.204048e-09</td>\n      <td>1705.2172</td>\n      <td>1983.9280</td>\n      <td>1847.6640</td>\n      <td>7395.666667</td>\n      <td>...</td>\n      <td>0.504025</td>\n      <td>0</td>\n      <td>-0.619140</td>\n      <td>0.928427</td>\n      <td>1.921965</td>\n      <td>0.439265</td>\n      <td>0.518652</td>\n      <td>0.486880</td>\n      <td>0.502250</td>\n      <td>{\"type\":\"MultiPoint\",\"coordinates\":[]}</td>\n    </tr>\n    <tr>\n      <th>5593</th>\n      <td>5645_0</td>\n      <td>3737.0335</td>\n      <td>3203.0217</td>\n      <td>3176.7917</td>\n      <td>153.829762</td>\n      <td>-2.672850e-07</td>\n      <td>719.2948</td>\n      <td>1292.1885</td>\n      <td>976.3423</td>\n      <td>7850.333333</td>\n      <td>...</td>\n      <td>0.509546</td>\n      <td>0</td>\n      <td>-0.728614</td>\n      <td>-0.232904</td>\n      <td>1.933536</td>\n      <td>0.428897</td>\n      <td>0.500848</td>\n      <td>0.466104</td>\n      <td>0.503478</td>\n      <td>{\"type\":\"MultiPoint\",\"coordinates\":[]}</td>\n    </tr>\n    <tr>\n      <th>5594</th>\n      <td>5646_0</td>\n      <td>3401.2935</td>\n      <td>3259.6997</td>\n      <td>2886.5738</td>\n      <td>47.552816</td>\n      <td>3.426760e-07</td>\n      <td>2347.6762</td>\n      <td>2396.6767</td>\n      <td>1922.7331</td>\n      <td>6598.444444</td>\n      <td>...</td>\n      <td>0.506532</td>\n      <td>0</td>\n      <td>-0.604742</td>\n      <td>1.195143</td>\n      <td>1.759720</td>\n      <td>0.437927</td>\n      <td>0.504844</td>\n      <td>0.490891</td>\n      <td>0.499392</td>\n      <td>{\"type\":\"MultiPoint\",\"coordinates\":[]}</td>\n    </tr>\n    <tr>\n      <th>5595</th>\n      <td>5647_0</td>\n      <td>3410.0164</td>\n      <td>3241.9534</td>\n      <td>2374.9601</td>\n      <td>103.980295</td>\n      <td>-2.298856e-07</td>\n      <td>1782.7111</td>\n      <td>1968.6275</td>\n      <td>1259.7834</td>\n      <td>8767.000000</td>\n      <td>...</td>\n      <td>0.497113</td>\n      <td>0</td>\n      <td>-0.659807</td>\n      <td>0.486571</td>\n      <td>-0.633936</td>\n      <td>0.432983</td>\n      <td>0.518627</td>\n      <td>0.497582</td>\n      <td>0.502251</td>\n      <td>{\"type\":\"MultiPoint\",\"coordinates\":[]}</td>\n    </tr>\n  </tbody>\n</table>\n<p>5596 rows × 81 columns</p>\n</div>"
     },
     "execution_count": 28,
     "metadata": {},
     "output_type": "execute_result"
    }
   ],
   "source": [
    "df = pd.read_csv(\"./data/raw/samples-124.csv\")\n",
    "df"
   ],
   "metadata": {
    "collapsed": false,
    "ExecuteTime": {
     "end_time": "2023-08-25T17:26:43.125571Z",
     "start_time": "2023-08-25T17:26:42.994460300Z"
    }
   },
   "id": "87fd7b411a6d5e91"
  },
  {
   "cell_type": "code",
   "execution_count": 36,
   "outputs": [],
   "source": [
    "label_series = df[(df[\"class_name\"] == 1)]['VV']\n",
    "versus_series = df[(df[\"class_name\"] == 2)]['VV']"
   ],
   "metadata": {
    "collapsed": false,
    "ExecuteTime": {
     "end_time": "2023-08-25T17:29:56.460442700Z",
     "start_time": "2023-08-25T17:29:56.444576200Z"
    }
   },
   "id": "8e70117f2be3f6e1"
  },
  {
   "cell_type": "code",
   "execution_count": 36,
   "outputs": [],
   "source": [],
   "metadata": {
    "collapsed": false,
    "ExecuteTime": {
     "end_time": "2023-08-25T17:30:01.042321100Z",
     "start_time": "2023-08-25T17:30:01.042321100Z"
    }
   },
   "id": "a5e9cf1326aec658"
  },
  {
   "cell_type": "code",
   "execution_count": 30,
   "outputs": [],
   "source": [
    "moa_calculator = MOACalculator(label_series, versus_series)"
   ],
   "metadata": {
    "collapsed": false,
    "ExecuteTime": {
     "end_time": "2023-08-25T17:26:44.085117500Z",
     "start_time": "2023-08-25T17:26:44.074536400Z"
    }
   },
   "id": "99afd747f5fe00c7"
  },
  {
   "cell_type": "code",
   "execution_count": 36,
   "outputs": [],
   "source": [
    "from itertools import combinations\n",
    "class MOATable:\n",
    "    def __init__(self, df: pd.DataFrame):\n",
    "        self.table = df\n",
    "    \n",
    "    def rank_scores(self):\n",
    "        self.table.sort_values(by=\"moa\", ascending=False).reset_index(drop=True, inplace=True)\n",
    "        self.table['rank'] = list(range(1, len(self.table) + 1))\n",
    "        return self\n",
    "    \n",
    "\n",
    "class MOAScoresCreator:\n",
    "    def __init__(self):\n",
    "        ...\n",
    "\n",
    "\n",
    "\n",
    "ColumnName = str\n",
    "\n",
    "class CalculateMOA:\n",
    "    \n",
    "    class MOATable(pd.DataFrame):\n",
    "        def __init__(self, df: pd.DataFrame):\n",
    "            super().__init__(df)\n",
    "            self.df = df\n",
    "\n",
    "        def rank_scores(self):\n",
    "            self.sort_values(by=\"moa\", ascending=False).reset_index(drop=True, inplace=True)\n",
    "            self['rank'] = list(range(1, len(self) + 1))\n",
    "            return self\n",
    "    \n",
    "\n",
    "    def __init__(self, input_df: pd.DataFrame, label_col: ColumnName):\n",
    "        \"\"\" Calculates the MOA for each predictor in the input dataframe against the label column \"\"\"\n",
    "        self.input_df = input_df\n",
    "        self.label_col = label_col\n",
    "        self._data = {\"label\": [], \"versus\": [], \"predictor\": [], \"moa\": []}\n",
    "    \n",
    "    @staticmethod\n",
    "    def _validate_input_df(input_df: pd.DataFrame, label_col):\n",
    "        if not isinstance(input_df, pd.DataFrame):\n",
    "            raise TypeError(\"input_df must be a pandas DataFrame\")\n",
    "        if input_df.empty:\n",
    "            raise ValueError(\"input_df must not be empty\")\n",
    "        \n",
    "        if len(input_df[label_col].unique()) != 2:\n",
    "            raise ValueError(\"label_col must have exactly two unique values\")\n",
    "    \n",
    "    \n",
    "    def run_calcs(self):\n",
    "        self._validate_input_df(self.input_df, self.label_col)\n",
    "        \n",
    "        for predictor in self.input_df.columns:\n",
    "            if predictor == self.label_col:\n",
    "                continue\n",
    "            label_series = self.[(self.raw[self.label_col] == self.label_col)][predictor]\n",
    "            versus_series = self.raw[(self.raw[self.label_col] == versus)][predictor]\n",
    "            moa_calculator = MOACalculator(label_series, versus_series)\n",
    "            self._data[\"label\"].append(label)\n",
    "            self._data[\"versus\"].append(versus)\n",
    "            self._data[\"predictor\"].append(predictor)\n",
    "            self._data[\"moa\"].append(moa_calculator.calc())\n",
    "        moa_table = MOATable(self._data)\n",
    "        return moa_table.rank_scores()\n",
    "    \n",
    "            \n"
   ],
   "metadata": {
    "collapsed": false,
    "ExecuteTime": {
     "end_time": "2023-08-25T17:30:26.820555400Z",
     "start_time": "2023-08-25T17:30:26.816969Z"
    }
   },
   "id": "849d42dbe89e801a"
  },
  {
   "cell_type": "code",
   "execution_count": null,
   "outputs": [],
   "source": [],
   "metadata": {
    "collapsed": false
   },
   "id": "dec1d1b6c07706bf"
  }
 ],
 "metadata": {
  "kernelspec": {
   "display_name": "Python 3",
   "language": "python",
   "name": "python3"
  },
  "language_info": {
   "codemirror_mode": {
    "name": "ipython",
    "version": 2
   },
   "file_extension": ".py",
   "mimetype": "text/x-python",
   "name": "python",
   "nbconvert_exporter": "python",
   "pygments_lexer": "ipython2",
   "version": "2.7.6"
  }
 },
 "nbformat": 4,
 "nbformat_minor": 5
}
