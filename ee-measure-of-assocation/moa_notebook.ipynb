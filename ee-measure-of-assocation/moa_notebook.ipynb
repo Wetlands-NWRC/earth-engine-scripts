{
 "cells": [
  {
   "cell_type": "code",
   "execution_count": 1,
   "id": "initial_id",
   "metadata": {
    "collapsed": true,
    "ExecuteTime": {
     "end_time": "2023-08-28T20:25:22.271628500Z",
     "start_time": "2023-08-28T20:25:19.876810100Z"
    }
   },
   "outputs": [],
   "source": [
    "import pandas as pd\n",
    "from itertools import combinations"
   ]
  },
  {
   "cell_type": "code",
   "execution_count": 2,
   "outputs": [
    {
     "data": {
      "text/plain": "  system:index  Brightness  Brightness_1  Brightness_2   Elevation  \\\n0          0_0   2219.2740     3644.3118     2983.1853  183.128712   \n1          1_0    326.8218      783.0737      752.4232  114.561850   \n2          2_0   3032.6624     2831.0404     2846.3911   87.621972   \n3          3_0   3698.9892     3375.2343     3135.9292   93.100778   \n4          4_0    329.4975      339.3223      241.6455  160.380712   \n\n   GaussianCurvature  Greenness  Greenness_1  Greenness_2           HH  ...  \\\n0      -1.111947e-07  1383.5968    2389.0840    1532.5927  5351.000000  ...   \n1      -3.356085e-08     9.3434     333.9811     271.9726  2170.222222  ...   \n2      -1.036272e-07  1501.6973    1629.3110    1607.4224  6217.555556  ...   \n3      -1.970626e-07  2570.6233    2576.7657    2421.1097  5447.444444  ...   \n4       1.447277e-07   -23.9396      56.7423      66.7478  1600.111111  ...   \n\n   cos_3_coeff  isTraining   phase_1   phase_2   phase_3  sin_1_coeff  \\\n0     0.508938           1 -0.569459  2.017689  1.817476     0.406582   \n1     0.505032           1 -0.949492  0.071245  2.007185     0.360472   \n2     0.505744           1 -0.572481  1.427724  1.871911     0.450827   \n3     0.500680           1 -0.763917  1.238851  2.053983     0.445311   \n4     0.503306           1 -1.011212 -1.001987  1.982560     0.352237   \n\n   sin_2_coeff  sin_3_coeff   t_coeff                                    .geo  \n0     0.457142     0.483894  0.501836  {\"type\":\"MultiPoint\",\"coordinates\":[]}  \n1     0.524289     0.460664  0.493707  {\"type\":\"MultiPoint\",\"coordinates\":[]}  \n2     0.496408     0.486329  0.501026  {\"type\":\"MultiPoint\",\"coordinates\":[]}  \n3     0.503122     0.479773  0.499924  {\"type\":\"MultiPoint\",\"coordinates\":[]}  \n4     0.428258     0.481460  0.503251  {\"type\":\"MultiPoint\",\"coordinates\":[]}  \n\n[5 rows x 81 columns]",
      "text/html": "<div>\n<style scoped>\n    .dataframe tbody tr th:only-of-type {\n        vertical-align: middle;\n    }\n\n    .dataframe tbody tr th {\n        vertical-align: top;\n    }\n\n    .dataframe thead th {\n        text-align: right;\n    }\n</style>\n<table border=\"1\" class=\"dataframe\">\n  <thead>\n    <tr style=\"text-align: right;\">\n      <th></th>\n      <th>system:index</th>\n      <th>Brightness</th>\n      <th>Brightness_1</th>\n      <th>Brightness_2</th>\n      <th>Elevation</th>\n      <th>GaussianCurvature</th>\n      <th>Greenness</th>\n      <th>Greenness_1</th>\n      <th>Greenness_2</th>\n      <th>HH</th>\n      <th>...</th>\n      <th>cos_3_coeff</th>\n      <th>isTraining</th>\n      <th>phase_1</th>\n      <th>phase_2</th>\n      <th>phase_3</th>\n      <th>sin_1_coeff</th>\n      <th>sin_2_coeff</th>\n      <th>sin_3_coeff</th>\n      <th>t_coeff</th>\n      <th>.geo</th>\n    </tr>\n  </thead>\n  <tbody>\n    <tr>\n      <th>0</th>\n      <td>0_0</td>\n      <td>2219.2740</td>\n      <td>3644.3118</td>\n      <td>2983.1853</td>\n      <td>183.128712</td>\n      <td>-1.111947e-07</td>\n      <td>1383.5968</td>\n      <td>2389.0840</td>\n      <td>1532.5927</td>\n      <td>5351.000000</td>\n      <td>...</td>\n      <td>0.508938</td>\n      <td>1</td>\n      <td>-0.569459</td>\n      <td>2.017689</td>\n      <td>1.817476</td>\n      <td>0.406582</td>\n      <td>0.457142</td>\n      <td>0.483894</td>\n      <td>0.501836</td>\n      <td>{\"type\":\"MultiPoint\",\"coordinates\":[]}</td>\n    </tr>\n    <tr>\n      <th>1</th>\n      <td>1_0</td>\n      <td>326.8218</td>\n      <td>783.0737</td>\n      <td>752.4232</td>\n      <td>114.561850</td>\n      <td>-3.356085e-08</td>\n      <td>9.3434</td>\n      <td>333.9811</td>\n      <td>271.9726</td>\n      <td>2170.222222</td>\n      <td>...</td>\n      <td>0.505032</td>\n      <td>1</td>\n      <td>-0.949492</td>\n      <td>0.071245</td>\n      <td>2.007185</td>\n      <td>0.360472</td>\n      <td>0.524289</td>\n      <td>0.460664</td>\n      <td>0.493707</td>\n      <td>{\"type\":\"MultiPoint\",\"coordinates\":[]}</td>\n    </tr>\n    <tr>\n      <th>2</th>\n      <td>2_0</td>\n      <td>3032.6624</td>\n      <td>2831.0404</td>\n      <td>2846.3911</td>\n      <td>87.621972</td>\n      <td>-1.036272e-07</td>\n      <td>1501.6973</td>\n      <td>1629.3110</td>\n      <td>1607.4224</td>\n      <td>6217.555556</td>\n      <td>...</td>\n      <td>0.505744</td>\n      <td>1</td>\n      <td>-0.572481</td>\n      <td>1.427724</td>\n      <td>1.871911</td>\n      <td>0.450827</td>\n      <td>0.496408</td>\n      <td>0.486329</td>\n      <td>0.501026</td>\n      <td>{\"type\":\"MultiPoint\",\"coordinates\":[]}</td>\n    </tr>\n    <tr>\n      <th>3</th>\n      <td>3_0</td>\n      <td>3698.9892</td>\n      <td>3375.2343</td>\n      <td>3135.9292</td>\n      <td>93.100778</td>\n      <td>-1.970626e-07</td>\n      <td>2570.6233</td>\n      <td>2576.7657</td>\n      <td>2421.1097</td>\n      <td>5447.444444</td>\n      <td>...</td>\n      <td>0.500680</td>\n      <td>1</td>\n      <td>-0.763917</td>\n      <td>1.238851</td>\n      <td>2.053983</td>\n      <td>0.445311</td>\n      <td>0.503122</td>\n      <td>0.479773</td>\n      <td>0.499924</td>\n      <td>{\"type\":\"MultiPoint\",\"coordinates\":[]}</td>\n    </tr>\n    <tr>\n      <th>4</th>\n      <td>4_0</td>\n      <td>329.4975</td>\n      <td>339.3223</td>\n      <td>241.6455</td>\n      <td>160.380712</td>\n      <td>1.447277e-07</td>\n      <td>-23.9396</td>\n      <td>56.7423</td>\n      <td>66.7478</td>\n      <td>1600.111111</td>\n      <td>...</td>\n      <td>0.503306</td>\n      <td>1</td>\n      <td>-1.011212</td>\n      <td>-1.001987</td>\n      <td>1.982560</td>\n      <td>0.352237</td>\n      <td>0.428258</td>\n      <td>0.481460</td>\n      <td>0.503251</td>\n      <td>{\"type\":\"MultiPoint\",\"coordinates\":[]}</td>\n    </tr>\n  </tbody>\n</table>\n<p>5 rows × 81 columns</p>\n</div>"
     },
     "execution_count": 2,
     "metadata": {},
     "output_type": "execute_result"
    }
   ],
   "source": [
    "df = pd.read_csv('./data/raw/samples-124.csv')\n",
    "df.head()"
   ],
   "metadata": {
    "collapsed": false,
    "ExecuteTime": {
     "end_time": "2023-08-28T20:25:22.436415100Z",
     "start_time": "2023-08-28T20:25:22.277145200Z"
    }
   },
   "id": "da865de243376672"
  },
  {
   "cell_type": "code",
   "execution_count": 3,
   "outputs": [
    {
     "data": {
      "text/plain": "['class_name',\n 'Brightness',\n 'Brightness_1',\n 'Brightness_2',\n 'Elevation',\n 'GaussianCurvature',\n 'Greenness',\n 'Greenness_1',\n 'Greenness_2',\n 'HH',\n 'HH/HV',\n 'HV',\n 'HorizontalCurvature',\n 'MeanCurvature',\n 'NDVI',\n 'NDVI_1',\n 'NDVI_2',\n 'SAVI',\n 'SAVI_1',\n 'SAVI_2',\n 'Slope',\n 'VH',\n 'VH_1',\n 'VV',\n 'VV/VH',\n 'VV/VH_1',\n 'VV_1',\n 'VerticalCurvature',\n 'Wetness',\n 'Wetness_1',\n 'Wetness_2',\n 'a_spri_b01_60m',\n 'a_spri_b02_10m',\n 'a_spri_b03_10m',\n 'a_spri_b04_10m',\n 'a_spri_b05_20m',\n 'a_spri_b06_20m',\n 'a_spri_b07_20m',\n 'a_spri_b08_10m',\n 'a_spri_b08a_20m',\n 'a_spri_b11_20m',\n 'a_spri_b12_20m',\n 'amp_1',\n 'amp_2',\n 'amp_3',\n 'b_summ_b01_60m',\n 'b_summ_b02_10m',\n 'b_summ_b03_10m',\n 'b_summ_b04_10m',\n 'b_summ_b05_20m',\n 'b_summ_b06_20m',\n 'b_summ_b07_20m',\n 'b_summ_b08_10m',\n 'b_summ_b08a_20m',\n 'b_summ_b11_20m',\n 'b_summ_b12_20m',\n 'c_fall_b01_60m',\n 'c_fall_b02_10m',\n 'c_fall_b03_10m',\n 'c_fall_b04_10m',\n 'c_fall_b05_20m',\n 'c_fall_b06_20m',\n 'c_fall_b07_20m',\n 'c_fall_b08_10m',\n 'c_fall_b08a_20m',\n 'c_fall_b11_20m',\n 'c_fall_b12_20m',\n 'constant_coeff',\n 'cos_1_coeff',\n 'cos_2_coeff',\n 'cos_3_coeff',\n 'phase_1',\n 'phase_2',\n 'phase_3',\n 'sin_1_coeff',\n 'sin_2_coeff',\n 'sin_3_coeff',\n 't_coeff']"
     },
     "execution_count": 3,
     "metadata": {},
     "output_type": "execute_result"
    }
   ],
   "source": [
    "cols_2_keep = [i for i in df.columns if i not in ['.geo', 'system:index', 'isTraining', 'class_name']]\n",
    "cols_2_keep.insert(0, 'class_name')\n",
    "cols_2_keep"
   ],
   "metadata": {
    "collapsed": false,
    "ExecuteTime": {
     "end_time": "2023-08-28T20:25:22.436415100Z",
     "start_time": "2023-08-28T20:25:22.421205900Z"
    }
   },
   "id": "95f24703bcab8e82"
  },
  {
   "cell_type": "code",
   "execution_count": 4,
   "outputs": [
    {
     "data": {
      "text/plain": "   class_name  Brightness  Brightness_1  Brightness_2   Elevation  \\\n0           1   2219.2740     3644.3118     2983.1853  183.128712   \n1           1    326.8218      783.0737      752.4232  114.561850   \n2           1   3032.6624     2831.0404     2846.3911   87.621972   \n3           1   3698.9892     3375.2343     3135.9292   93.100778   \n4           1    329.4975      339.3223      241.6455  160.380712   \n\n   GaussianCurvature  Greenness  Greenness_1  Greenness_2           HH  ...  \\\n0      -1.111947e-07  1383.5968    2389.0840    1532.5927  5351.000000  ...   \n1      -3.356085e-08     9.3434     333.9811     271.9726  2170.222222  ...   \n2      -1.036272e-07  1501.6973    1629.3110    1607.4224  6217.555556  ...   \n3      -1.970626e-07  2570.6233    2576.7657    2421.1097  5447.444444  ...   \n4       1.447277e-07   -23.9396      56.7423      66.7478  1600.111111  ...   \n\n   cos_1_coeff  cos_2_coeff  cos_3_coeff   phase_1   phase_2   phase_3  \\\n0     0.353650     0.504569     0.508938 -0.569459  2.017689  1.817476   \n1     0.465469     0.471929     0.505032 -0.949492  0.071245  2.007185   \n2     0.423982     0.512278     0.505744 -0.572481  1.427724  1.871911   \n3     0.461470     0.533440     0.500680 -0.763917  1.238851  2.053983   \n4     0.482307     0.490064     0.503306 -1.011212 -1.001987  1.982560   \n\n   sin_1_coeff  sin_2_coeff  sin_3_coeff   t_coeff  \n0     0.406582     0.457142     0.483894  0.501836  \n1     0.360472     0.524289     0.460664  0.493707  \n2     0.450827     0.496408     0.486329  0.501026  \n3     0.445311     0.503122     0.479773  0.499924  \n4     0.352237     0.428258     0.481460  0.503251  \n\n[5 rows x 78 columns]",
      "text/html": "<div>\n<style scoped>\n    .dataframe tbody tr th:only-of-type {\n        vertical-align: middle;\n    }\n\n    .dataframe tbody tr th {\n        vertical-align: top;\n    }\n\n    .dataframe thead th {\n        text-align: right;\n    }\n</style>\n<table border=\"1\" class=\"dataframe\">\n  <thead>\n    <tr style=\"text-align: right;\">\n      <th></th>\n      <th>class_name</th>\n      <th>Brightness</th>\n      <th>Brightness_1</th>\n      <th>Brightness_2</th>\n      <th>Elevation</th>\n      <th>GaussianCurvature</th>\n      <th>Greenness</th>\n      <th>Greenness_1</th>\n      <th>Greenness_2</th>\n      <th>HH</th>\n      <th>...</th>\n      <th>cos_1_coeff</th>\n      <th>cos_2_coeff</th>\n      <th>cos_3_coeff</th>\n      <th>phase_1</th>\n      <th>phase_2</th>\n      <th>phase_3</th>\n      <th>sin_1_coeff</th>\n      <th>sin_2_coeff</th>\n      <th>sin_3_coeff</th>\n      <th>t_coeff</th>\n    </tr>\n  </thead>\n  <tbody>\n    <tr>\n      <th>0</th>\n      <td>1</td>\n      <td>2219.2740</td>\n      <td>3644.3118</td>\n      <td>2983.1853</td>\n      <td>183.128712</td>\n      <td>-1.111947e-07</td>\n      <td>1383.5968</td>\n      <td>2389.0840</td>\n      <td>1532.5927</td>\n      <td>5351.000000</td>\n      <td>...</td>\n      <td>0.353650</td>\n      <td>0.504569</td>\n      <td>0.508938</td>\n      <td>-0.569459</td>\n      <td>2.017689</td>\n      <td>1.817476</td>\n      <td>0.406582</td>\n      <td>0.457142</td>\n      <td>0.483894</td>\n      <td>0.501836</td>\n    </tr>\n    <tr>\n      <th>1</th>\n      <td>1</td>\n      <td>326.8218</td>\n      <td>783.0737</td>\n      <td>752.4232</td>\n      <td>114.561850</td>\n      <td>-3.356085e-08</td>\n      <td>9.3434</td>\n      <td>333.9811</td>\n      <td>271.9726</td>\n      <td>2170.222222</td>\n      <td>...</td>\n      <td>0.465469</td>\n      <td>0.471929</td>\n      <td>0.505032</td>\n      <td>-0.949492</td>\n      <td>0.071245</td>\n      <td>2.007185</td>\n      <td>0.360472</td>\n      <td>0.524289</td>\n      <td>0.460664</td>\n      <td>0.493707</td>\n    </tr>\n    <tr>\n      <th>2</th>\n      <td>1</td>\n      <td>3032.6624</td>\n      <td>2831.0404</td>\n      <td>2846.3911</td>\n      <td>87.621972</td>\n      <td>-1.036272e-07</td>\n      <td>1501.6973</td>\n      <td>1629.3110</td>\n      <td>1607.4224</td>\n      <td>6217.555556</td>\n      <td>...</td>\n      <td>0.423982</td>\n      <td>0.512278</td>\n      <td>0.505744</td>\n      <td>-0.572481</td>\n      <td>1.427724</td>\n      <td>1.871911</td>\n      <td>0.450827</td>\n      <td>0.496408</td>\n      <td>0.486329</td>\n      <td>0.501026</td>\n    </tr>\n    <tr>\n      <th>3</th>\n      <td>1</td>\n      <td>3698.9892</td>\n      <td>3375.2343</td>\n      <td>3135.9292</td>\n      <td>93.100778</td>\n      <td>-1.970626e-07</td>\n      <td>2570.6233</td>\n      <td>2576.7657</td>\n      <td>2421.1097</td>\n      <td>5447.444444</td>\n      <td>...</td>\n      <td>0.461470</td>\n      <td>0.533440</td>\n      <td>0.500680</td>\n      <td>-0.763917</td>\n      <td>1.238851</td>\n      <td>2.053983</td>\n      <td>0.445311</td>\n      <td>0.503122</td>\n      <td>0.479773</td>\n      <td>0.499924</td>\n    </tr>\n    <tr>\n      <th>4</th>\n      <td>1</td>\n      <td>329.4975</td>\n      <td>339.3223</td>\n      <td>241.6455</td>\n      <td>160.380712</td>\n      <td>1.447277e-07</td>\n      <td>-23.9396</td>\n      <td>56.7423</td>\n      <td>66.7478</td>\n      <td>1600.111111</td>\n      <td>...</td>\n      <td>0.482307</td>\n      <td>0.490064</td>\n      <td>0.503306</td>\n      <td>-1.011212</td>\n      <td>-1.001987</td>\n      <td>1.982560</td>\n      <td>0.352237</td>\n      <td>0.428258</td>\n      <td>0.481460</td>\n      <td>0.503251</td>\n    </tr>\n  </tbody>\n</table>\n<p>5 rows × 78 columns</p>\n</div>"
     },
     "execution_count": 4,
     "metadata": {},
     "output_type": "execute_result"
    }
   ],
   "source": [
    "df = df[cols_2_keep]\n",
    "df.head()"
   ],
   "metadata": {
    "collapsed": false,
    "ExecuteTime": {
     "end_time": "2023-08-28T20:25:22.596813700Z",
     "start_time": "2023-08-28T20:25:22.452575800Z"
    }
   },
   "id": "5368e5cdd9ae2148"
  },
  {
   "cell_type": "code",
   "execution_count": 4,
   "outputs": [],
   "source": [],
   "metadata": {
    "collapsed": false,
    "ExecuteTime": {
     "end_time": "2023-08-28T20:25:22.596813700Z",
     "start_time": "2023-08-28T20:25:22.467976700Z"
    }
   },
   "id": "5382affc27b43acd"
  },
  {
   "cell_type": "code",
   "execution_count": 5,
   "outputs": [
    {
     "data": {
      "text/plain": "[1, 2, 3, 4, 5, 6, 7, 8]"
     },
     "execution_count": 5,
     "metadata": {},
     "output_type": "execute_result"
    }
   ],
   "source": [
    "labels = df['class_name'].unique().tolist()\n",
    "labels"
   ],
   "metadata": {
    "collapsed": false,
    "ExecuteTime": {
     "end_time": "2023-08-28T20:25:22.596813700Z",
     "start_time": "2023-08-28T20:25:22.477959200Z"
    }
   },
   "id": "14eaade90072acd2"
  },
  {
   "cell_type": "code",
   "execution_count": 6,
   "outputs": [
    {
     "data": {
      "text/plain": "[(1, 2),\n (1, 3),\n (1, 4),\n (1, 5),\n (1, 6),\n (1, 7),\n (1, 8),\n (2, 3),\n (2, 4),\n (2, 5),\n (2, 6),\n (2, 7),\n (2, 8),\n (3, 4),\n (3, 5),\n (3, 6),\n (3, 7),\n (3, 8),\n (4, 5),\n (4, 6),\n (4, 7),\n (4, 8),\n (5, 6),\n (5, 7),\n (5, 8),\n (6, 7),\n (6, 8),\n (7, 8)]"
     },
     "execution_count": 6,
     "metadata": {},
     "output_type": "execute_result"
    }
   ],
   "source": [
    "combos = combinations(labels, 2)\n",
    "list(combos)"
   ],
   "metadata": {
    "collapsed": false,
    "ExecuteTime": {
     "end_time": "2023-08-28T20:25:22.596813700Z",
     "start_time": "2023-08-28T20:25:22.483998500Z"
    }
   },
   "id": "eda0663bda0c6c56"
  },
  {
   "cell_type": "code",
   "execution_count": 7,
   "outputs": [
    {
     "data": {
      "text/plain": "      class_name  Brightness  Brightness_1  Brightness_2   Elevation  \\\n0              1   2219.2740     3644.3118     2983.1853  183.128712   \n1              1    326.8218      783.0737      752.4232  114.561850   \n2              1   3032.6624     2831.0404     2846.3911   87.621972   \n3              1   3698.9892     3375.2343     3135.9292   93.100778   \n4              1    329.4975      339.3223      241.6455  160.380712   \n...          ...         ...           ...           ...         ...   \n5162           1   3416.0036     3534.0158     3088.3554   97.869209   \n5163           1   4185.0212     3769.9405     3279.0128   76.577473   \n5164           2    272.1679      840.9823      752.7910  144.104423   \n5165           2    613.6330     1250.8316     1194.4857   16.000000   \n5166           2    853.7765     6814.5343     6677.5747  144.519892   \n\n      GaussianCurvature  Greenness  Greenness_1  Greenness_2           HH  \\\n0         -1.111947e-07  1383.5968    2389.0840    1532.5927  5351.000000   \n1         -3.356085e-08     9.3434     333.9811     271.9726  2170.222222   \n2         -1.036272e-07  1501.6973    1629.3110    1607.4224  6217.555556   \n3         -1.970626e-07  2570.6233    2576.7657    2421.1097  5447.444444   \n4          1.447277e-07   -23.9396      56.7423      66.7478  1600.111111   \n...                 ...        ...          ...          ...          ...   \n5162      -5.669770e-08  1704.8070    2067.1003    1777.2207  3852.222222   \n5163      -1.936979e-07  1107.9641    1912.6717    1687.3670  4610.333333   \n5164       1.265846e-07   -58.4296     283.8056     256.3396  1090.666667   \n5165      -0.000000e+00   -42.8797     597.4415     572.2467   922.000000   \n5166      -3.841099e-08     0.6099      -0.4430      71.9910  1183.666667   \n\n      ...  cos_1_coeff  cos_2_coeff  cos_3_coeff   phase_1   phase_2  \\\n0     ...     0.353650     0.504569     0.508938 -0.569459  2.017689   \n1     ...     0.465469     0.471929     0.505032 -0.949492  0.071245   \n2     ...     0.423982     0.512278     0.505744 -0.572481  1.427724   \n3     ...     0.461470     0.533440     0.500680 -0.763917  1.238851   \n4     ...     0.482307     0.490064     0.503306 -1.011212 -1.001987   \n...   ...          ...          ...          ...       ...       ...   \n5162  ...     0.454074     0.498346     0.519858 -0.701814 -0.806317   \n5163  ...     0.405183     0.484865     0.503012 -0.633500 -0.180089   \n5164  ...     0.502940     0.476718     0.464981  2.059321 -0.768598   \n5165  ...     0.431890     0.536268     0.473469 -0.918474  0.704987   \n5166  ...     0.467888     0.487732     0.490103 -0.775740 -0.706117   \n\n       phase_3  sin_1_coeff  sin_2_coeff  sin_3_coeff   t_coeff  \n0     1.817476     0.406582     0.457142     0.483894  0.501836  \n1     2.007185     0.360472     0.524289     0.460664  0.493707  \n2     1.871911     0.450827     0.496408     0.486329  0.501026  \n3     2.053983     0.445311     0.503122     0.479773  0.499924  \n4     1.982560     0.352237     0.428258     0.481460  0.503251  \n...        ...          ...          ...          ...       ...  \n5162  1.498729     0.449496     0.497170     0.490973  0.499728  \n5163  1.981034     0.420750     0.503236     0.483404  0.502656  \n5164 -0.655602     0.371901     0.466288     0.467998  0.508887  \n5165  0.322497     0.283388     0.583452     0.571568  0.502181  \n5166 -0.728932     0.452052     0.486273     0.487854  0.500712  \n\n[1297 rows x 78 columns]",
      "text/html": "<div>\n<style scoped>\n    .dataframe tbody tr th:only-of-type {\n        vertical-align: middle;\n    }\n\n    .dataframe tbody tr th {\n        vertical-align: top;\n    }\n\n    .dataframe thead th {\n        text-align: right;\n    }\n</style>\n<table border=\"1\" class=\"dataframe\">\n  <thead>\n    <tr style=\"text-align: right;\">\n      <th></th>\n      <th>class_name</th>\n      <th>Brightness</th>\n      <th>Brightness_1</th>\n      <th>Brightness_2</th>\n      <th>Elevation</th>\n      <th>GaussianCurvature</th>\n      <th>Greenness</th>\n      <th>Greenness_1</th>\n      <th>Greenness_2</th>\n      <th>HH</th>\n      <th>...</th>\n      <th>cos_1_coeff</th>\n      <th>cos_2_coeff</th>\n      <th>cos_3_coeff</th>\n      <th>phase_1</th>\n      <th>phase_2</th>\n      <th>phase_3</th>\n      <th>sin_1_coeff</th>\n      <th>sin_2_coeff</th>\n      <th>sin_3_coeff</th>\n      <th>t_coeff</th>\n    </tr>\n  </thead>\n  <tbody>\n    <tr>\n      <th>0</th>\n      <td>1</td>\n      <td>2219.2740</td>\n      <td>3644.3118</td>\n      <td>2983.1853</td>\n      <td>183.128712</td>\n      <td>-1.111947e-07</td>\n      <td>1383.5968</td>\n      <td>2389.0840</td>\n      <td>1532.5927</td>\n      <td>5351.000000</td>\n      <td>...</td>\n      <td>0.353650</td>\n      <td>0.504569</td>\n      <td>0.508938</td>\n      <td>-0.569459</td>\n      <td>2.017689</td>\n      <td>1.817476</td>\n      <td>0.406582</td>\n      <td>0.457142</td>\n      <td>0.483894</td>\n      <td>0.501836</td>\n    </tr>\n    <tr>\n      <th>1</th>\n      <td>1</td>\n      <td>326.8218</td>\n      <td>783.0737</td>\n      <td>752.4232</td>\n      <td>114.561850</td>\n      <td>-3.356085e-08</td>\n      <td>9.3434</td>\n      <td>333.9811</td>\n      <td>271.9726</td>\n      <td>2170.222222</td>\n      <td>...</td>\n      <td>0.465469</td>\n      <td>0.471929</td>\n      <td>0.505032</td>\n      <td>-0.949492</td>\n      <td>0.071245</td>\n      <td>2.007185</td>\n      <td>0.360472</td>\n      <td>0.524289</td>\n      <td>0.460664</td>\n      <td>0.493707</td>\n    </tr>\n    <tr>\n      <th>2</th>\n      <td>1</td>\n      <td>3032.6624</td>\n      <td>2831.0404</td>\n      <td>2846.3911</td>\n      <td>87.621972</td>\n      <td>-1.036272e-07</td>\n      <td>1501.6973</td>\n      <td>1629.3110</td>\n      <td>1607.4224</td>\n      <td>6217.555556</td>\n      <td>...</td>\n      <td>0.423982</td>\n      <td>0.512278</td>\n      <td>0.505744</td>\n      <td>-0.572481</td>\n      <td>1.427724</td>\n      <td>1.871911</td>\n      <td>0.450827</td>\n      <td>0.496408</td>\n      <td>0.486329</td>\n      <td>0.501026</td>\n    </tr>\n    <tr>\n      <th>3</th>\n      <td>1</td>\n      <td>3698.9892</td>\n      <td>3375.2343</td>\n      <td>3135.9292</td>\n      <td>93.100778</td>\n      <td>-1.970626e-07</td>\n      <td>2570.6233</td>\n      <td>2576.7657</td>\n      <td>2421.1097</td>\n      <td>5447.444444</td>\n      <td>...</td>\n      <td>0.461470</td>\n      <td>0.533440</td>\n      <td>0.500680</td>\n      <td>-0.763917</td>\n      <td>1.238851</td>\n      <td>2.053983</td>\n      <td>0.445311</td>\n      <td>0.503122</td>\n      <td>0.479773</td>\n      <td>0.499924</td>\n    </tr>\n    <tr>\n      <th>4</th>\n      <td>1</td>\n      <td>329.4975</td>\n      <td>339.3223</td>\n      <td>241.6455</td>\n      <td>160.380712</td>\n      <td>1.447277e-07</td>\n      <td>-23.9396</td>\n      <td>56.7423</td>\n      <td>66.7478</td>\n      <td>1600.111111</td>\n      <td>...</td>\n      <td>0.482307</td>\n      <td>0.490064</td>\n      <td>0.503306</td>\n      <td>-1.011212</td>\n      <td>-1.001987</td>\n      <td>1.982560</td>\n      <td>0.352237</td>\n      <td>0.428258</td>\n      <td>0.481460</td>\n      <td>0.503251</td>\n    </tr>\n    <tr>\n      <th>...</th>\n      <td>...</td>\n      <td>...</td>\n      <td>...</td>\n      <td>...</td>\n      <td>...</td>\n      <td>...</td>\n      <td>...</td>\n      <td>...</td>\n      <td>...</td>\n      <td>...</td>\n      <td>...</td>\n      <td>...</td>\n      <td>...</td>\n      <td>...</td>\n      <td>...</td>\n      <td>...</td>\n      <td>...</td>\n      <td>...</td>\n      <td>...</td>\n      <td>...</td>\n      <td>...</td>\n    </tr>\n    <tr>\n      <th>5162</th>\n      <td>1</td>\n      <td>3416.0036</td>\n      <td>3534.0158</td>\n      <td>3088.3554</td>\n      <td>97.869209</td>\n      <td>-5.669770e-08</td>\n      <td>1704.8070</td>\n      <td>2067.1003</td>\n      <td>1777.2207</td>\n      <td>3852.222222</td>\n      <td>...</td>\n      <td>0.454074</td>\n      <td>0.498346</td>\n      <td>0.519858</td>\n      <td>-0.701814</td>\n      <td>-0.806317</td>\n      <td>1.498729</td>\n      <td>0.449496</td>\n      <td>0.497170</td>\n      <td>0.490973</td>\n      <td>0.499728</td>\n    </tr>\n    <tr>\n      <th>5163</th>\n      <td>1</td>\n      <td>4185.0212</td>\n      <td>3769.9405</td>\n      <td>3279.0128</td>\n      <td>76.577473</td>\n      <td>-1.936979e-07</td>\n      <td>1107.9641</td>\n      <td>1912.6717</td>\n      <td>1687.3670</td>\n      <td>4610.333333</td>\n      <td>...</td>\n      <td>0.405183</td>\n      <td>0.484865</td>\n      <td>0.503012</td>\n      <td>-0.633500</td>\n      <td>-0.180089</td>\n      <td>1.981034</td>\n      <td>0.420750</td>\n      <td>0.503236</td>\n      <td>0.483404</td>\n      <td>0.502656</td>\n    </tr>\n    <tr>\n      <th>5164</th>\n      <td>2</td>\n      <td>272.1679</td>\n      <td>840.9823</td>\n      <td>752.7910</td>\n      <td>144.104423</td>\n      <td>1.265846e-07</td>\n      <td>-58.4296</td>\n      <td>283.8056</td>\n      <td>256.3396</td>\n      <td>1090.666667</td>\n      <td>...</td>\n      <td>0.502940</td>\n      <td>0.476718</td>\n      <td>0.464981</td>\n      <td>2.059321</td>\n      <td>-0.768598</td>\n      <td>-0.655602</td>\n      <td>0.371901</td>\n      <td>0.466288</td>\n      <td>0.467998</td>\n      <td>0.508887</td>\n    </tr>\n    <tr>\n      <th>5165</th>\n      <td>2</td>\n      <td>613.6330</td>\n      <td>1250.8316</td>\n      <td>1194.4857</td>\n      <td>16.000000</td>\n      <td>-0.000000e+00</td>\n      <td>-42.8797</td>\n      <td>597.4415</td>\n      <td>572.2467</td>\n      <td>922.000000</td>\n      <td>...</td>\n      <td>0.431890</td>\n      <td>0.536268</td>\n      <td>0.473469</td>\n      <td>-0.918474</td>\n      <td>0.704987</td>\n      <td>0.322497</td>\n      <td>0.283388</td>\n      <td>0.583452</td>\n      <td>0.571568</td>\n      <td>0.502181</td>\n    </tr>\n    <tr>\n      <th>5166</th>\n      <td>2</td>\n      <td>853.7765</td>\n      <td>6814.5343</td>\n      <td>6677.5747</td>\n      <td>144.519892</td>\n      <td>-3.841099e-08</td>\n      <td>0.6099</td>\n      <td>-0.4430</td>\n      <td>71.9910</td>\n      <td>1183.666667</td>\n      <td>...</td>\n      <td>0.467888</td>\n      <td>0.487732</td>\n      <td>0.490103</td>\n      <td>-0.775740</td>\n      <td>-0.706117</td>\n      <td>-0.728932</td>\n      <td>0.452052</td>\n      <td>0.486273</td>\n      <td>0.487854</td>\n      <td>0.500712</td>\n    </tr>\n  </tbody>\n</table>\n<p>1297 rows × 78 columns</p>\n</div>"
     },
     "execution_count": 7,
     "metadata": {},
     "output_type": "execute_result"
    }
   ],
   "source": [
    "df = df[(df['class_name'] == 1) | (df['class_name'] == 2)]\n",
    "df"
   ],
   "metadata": {
    "collapsed": false,
    "ExecuteTime": {
     "end_time": "2023-08-28T20:25:22.603761200Z",
     "start_time": "2023-08-28T20:25:22.486597700Z"
    }
   },
   "id": "14fb26075839097d"
  },
  {
   "cell_type": "code",
   "execution_count": 8,
   "outputs": [
    {
     "data": {
      "text/plain": "            Brightness  Brightness_1  Brightness_2  Elevation  \\\nclass_name                                                      \n1                  644           644           644        644   \n2                  653           653           653        653   \n\n            GaussianCurvature  Greenness  Greenness_1  Greenness_2   HH  \\\nclass_name                                                                \n1                         644        644          644          644  644   \n2                         653        653          653          653  653   \n\n            HH/HV  ...  cos_1_coeff  cos_2_coeff  cos_3_coeff  phase_1  \\\nclass_name         ...                                                   \n1             644  ...          644          644          644      644   \n2             653  ...          653          653          653      653   \n\n            phase_2  phase_3  sin_1_coeff  sin_2_coeff  sin_3_coeff  t_coeff  \nclass_name                                                                    \n1               644      644          644          644          644      644  \n2               653      653          653          653          653      653  \n\n[2 rows x 77 columns]",
      "text/html": "<div>\n<style scoped>\n    .dataframe tbody tr th:only-of-type {\n        vertical-align: middle;\n    }\n\n    .dataframe tbody tr th {\n        vertical-align: top;\n    }\n\n    .dataframe thead th {\n        text-align: right;\n    }\n</style>\n<table border=\"1\" class=\"dataframe\">\n  <thead>\n    <tr style=\"text-align: right;\">\n      <th></th>\n      <th>Brightness</th>\n      <th>Brightness_1</th>\n      <th>Brightness_2</th>\n      <th>Elevation</th>\n      <th>GaussianCurvature</th>\n      <th>Greenness</th>\n      <th>Greenness_1</th>\n      <th>Greenness_2</th>\n      <th>HH</th>\n      <th>HH/HV</th>\n      <th>...</th>\n      <th>cos_1_coeff</th>\n      <th>cos_2_coeff</th>\n      <th>cos_3_coeff</th>\n      <th>phase_1</th>\n      <th>phase_2</th>\n      <th>phase_3</th>\n      <th>sin_1_coeff</th>\n      <th>sin_2_coeff</th>\n      <th>sin_3_coeff</th>\n      <th>t_coeff</th>\n    </tr>\n    <tr>\n      <th>class_name</th>\n      <th></th>\n      <th></th>\n      <th></th>\n      <th></th>\n      <th></th>\n      <th></th>\n      <th></th>\n      <th></th>\n      <th></th>\n      <th></th>\n      <th></th>\n      <th></th>\n      <th></th>\n      <th></th>\n      <th></th>\n      <th></th>\n      <th></th>\n      <th></th>\n      <th></th>\n      <th></th>\n      <th></th>\n    </tr>\n  </thead>\n  <tbody>\n    <tr>\n      <th>1</th>\n      <td>644</td>\n      <td>644</td>\n      <td>644</td>\n      <td>644</td>\n      <td>644</td>\n      <td>644</td>\n      <td>644</td>\n      <td>644</td>\n      <td>644</td>\n      <td>644</td>\n      <td>...</td>\n      <td>644</td>\n      <td>644</td>\n      <td>644</td>\n      <td>644</td>\n      <td>644</td>\n      <td>644</td>\n      <td>644</td>\n      <td>644</td>\n      <td>644</td>\n      <td>644</td>\n    </tr>\n    <tr>\n      <th>2</th>\n      <td>653</td>\n      <td>653</td>\n      <td>653</td>\n      <td>653</td>\n      <td>653</td>\n      <td>653</td>\n      <td>653</td>\n      <td>653</td>\n      <td>653</td>\n      <td>653</td>\n      <td>...</td>\n      <td>653</td>\n      <td>653</td>\n      <td>653</td>\n      <td>653</td>\n      <td>653</td>\n      <td>653</td>\n      <td>653</td>\n      <td>653</td>\n      <td>653</td>\n      <td>653</td>\n    </tr>\n  </tbody>\n</table>\n<p>2 rows × 77 columns</p>\n</div>"
     },
     "execution_count": 8,
     "metadata": {},
     "output_type": "execute_result"
    }
   ],
   "source": [
    "df.groupby('class_name').count()"
   ],
   "metadata": {
    "collapsed": false,
    "ExecuteTime": {
     "end_time": "2023-08-28T20:25:22.778716Z",
     "start_time": "2023-08-28T20:25:22.516259900Z"
    }
   },
   "id": "a22924f4641140ea"
  },
  {
   "cell_type": "markdown",
   "source": [
    "## 2. Get isolate by the predictor"
   ],
   "metadata": {
    "collapsed": false
   },
   "id": "ea2cdcb781646d62"
  },
  {
   "cell_type": "code",
   "execution_count": 9,
   "outputs": [
    {
     "data": {
      "text/plain": "0       5351.000000\n1       2170.222222\n2       6217.555556\n3       5447.444444\n4       1600.111111\n           ...     \n5159    5426.666667\n5160    5853.777778\n5161    6012.000000\n5162    3852.222222\n5163    4610.333333\nName: HH, Length: 644, dtype: float64"
     },
     "execution_count": 9,
     "metadata": {},
     "output_type": "execute_result"
    }
   ],
   "source": [
    "dfc1 = df[df['class_name'] == 1]['HH']\n",
    "dfc1"
   ],
   "metadata": {
    "collapsed": false,
    "ExecuteTime": {
     "end_time": "2023-08-28T20:25:22.778716Z",
     "start_time": "2023-08-28T20:25:22.545221Z"
    }
   },
   "id": "35a2671f89b0c885"
  },
  {
   "cell_type": "code",
   "execution_count": 10,
   "outputs": [
    {
     "data": {
      "text/plain": "636     1198.000000\n637     1196.333333\n638     1231.666667\n639     1369.888889\n640     1323.000000\n           ...     \n1284    1429.222222\n1285    1077.888889\n5164    1090.666667\n5165     922.000000\n5166    1183.666667\nName: HH, Length: 653, dtype: float64"
     },
     "execution_count": 10,
     "metadata": {},
     "output_type": "execute_result"
    }
   ],
   "source": [
    "dfc2 = df[df['class_name'] == 2]['HH']\n",
    "dfc2"
   ],
   "metadata": {
    "collapsed": false,
    "ExecuteTime": {
     "end_time": "2023-08-28T20:25:22.842314900Z",
     "start_time": "2023-08-28T20:25:22.547756400Z"
    }
   },
   "id": "6d6dc465a75a39c1"
  },
  {
   "cell_type": "code",
   "execution_count": 11,
   "outputs": [
    {
     "data": {
      "text/plain": "4263.127501725327"
     },
     "execution_count": 11,
     "metadata": {},
     "output_type": "execute_result"
    }
   ],
   "source": [
    "c1_mean = dfc1.mean()\n",
    "c1_mean"
   ],
   "metadata": {
    "collapsed": false,
    "ExecuteTime": {
     "end_time": "2023-08-28T20:25:22.842314900Z",
     "start_time": "2023-08-28T20:25:22.555215500Z"
    }
   },
   "id": "8f9c2b34fe9bf979"
  },
  {
   "cell_type": "code",
   "execution_count": 12,
   "outputs": [
    {
     "data": {
      "text/plain": "1471.4674153479666"
     },
     "execution_count": 12,
     "metadata": {},
     "output_type": "execute_result"
    }
   ],
   "source": [
    "c2_mean = dfc2.mean()\n",
    "c2_mean"
   ],
   "metadata": {
    "collapsed": false,
    "ExecuteTime": {
     "end_time": "2023-08-28T20:25:22.842314900Z",
     "start_time": "2023-08-28T20:25:22.564118700Z"
    }
   },
   "id": "a6e90a02f7e6b09c"
  },
  {
   "cell_type": "code",
   "execution_count": 13,
   "outputs": [
    {
     "data": {
      "text/plain": "0       5351.000000\n1       2170.222222\n2       6217.555556\n3       5447.444444\n4       1600.111111\n           ...     \n1284    1429.222222\n1285    1077.888889\n5164    1090.666667\n5165     922.000000\n5166    1183.666667\nName: HH, Length: 1297, dtype: float64"
     },
     "execution_count": 13,
     "metadata": {},
     "output_type": "execute_result"
    }
   ],
   "source": [
    "cat = pd.concat([dfc1, dfc2])\n",
    "cat"
   ],
   "metadata": {
    "collapsed": false,
    "ExecuteTime": {
     "end_time": "2023-08-28T20:25:22.842314900Z",
     "start_time": "2023-08-28T20:25:22.579670300Z"
    }
   },
   "id": "a1e2a8371bdedaa4"
  },
  {
   "cell_type": "code",
   "execution_count": 14,
   "outputs": [
    {
     "data": {
      "text/plain": "2099.1230958091364"
     },
     "execution_count": 14,
     "metadata": {},
     "output_type": "execute_result"
    }
   ],
   "source": [
    "std = cat.std()\n",
    "std"
   ],
   "metadata": {
    "collapsed": false,
    "ExecuteTime": {
     "end_time": "2023-08-28T20:25:22.890381600Z",
     "start_time": "2023-08-28T20:25:22.580221500Z"
    }
   },
   "id": "62afcb2131e816d7"
  },
  {
   "cell_type": "code",
   "execution_count": 15,
   "outputs": [
    {
     "data": {
      "text/plain": "1.3299172840081952"
     },
     "execution_count": 15,
     "metadata": {},
     "output_type": "execute_result"
    }
   ],
   "source": [
    "score = abs(c1_mean - c2_mean) / std\n",
    "score"
   ],
   "metadata": {
    "collapsed": false,
    "ExecuteTime": {
     "end_time": "2023-08-28T20:25:22.890381600Z",
     "start_time": "2023-08-28T20:25:22.588282800Z"
    }
   },
   "id": "20ed056ed0127ef9"
  },
  {
   "cell_type": "code",
   "execution_count": 16,
   "outputs": [
    {
     "name": "stdout",
     "output_type": "stream",
     "text": [
      "(1, 2)\n",
      "Brightness: 1.0288247841551306\n",
      "Brightness_1: 0.3873958464669974\n",
      "Brightness_2: 0.1522139472717857\n",
      "Elevation: 0.1489058526538519\n",
      "GaussianCurvature: 0.17244371983981477\n",
      "Greenness: 1.332665174032808\n",
      "Greenness_1: 1.2239469146104338\n",
      "Greenness_2: 1.1784033796431073\n",
      "HH: 1.3299172840081952\n",
      "HH/HV: 0.05986496372328792\n",
      "HV: 1.3255636809871618\n",
      "HorizontalCurvature: 0.6181111419627264\n",
      "MeanCurvature: 0.7254901506534489\n",
      "NDVI: 1.3699471763128452\n",
      "NDVI_1: 1.1505813864316263\n",
      "NDVI_2: 1.0598399038325232\n",
      "SAVI: 1.3699764094179836\n",
      "SAVI_1: 1.1505272148775028\n",
      "SAVI_2: 1.0596862985407602\n",
      "Slope: 0.9445940833696863\n",
      "VH: 1.4661571100234545\n",
      "VH_1: 1.2102857727267313\n",
      "VV: 1.401169482726147\n",
      "VV/VH: 0.5205967837050381\n",
      "VV/VH_1: 0.07353384097491797\n",
      "VV_1: 0.9857656509794825\n",
      "VerticalCurvature: 0.5417774761614464\n",
      "Wetness: 0.36442624005665103\n",
      "Wetness_1: 0.5152251371963996\n",
      "Wetness_2: 0.5590764866621908\n",
      "a_spri_b01_60m: 0.12054940911996315\n",
      "a_spri_b02_10m: 0.2859697945587641\n",
      "a_spri_b03_10m: 0.7584913764724356\n",
      "a_spri_b04_10m: 0.36115856302129673\n",
      "a_spri_b05_20m: 0.9878965457831035\n",
      "a_spri_b06_20m: 1.2509658556432723\n",
      "a_spri_b07_20m: 1.259458847375325\n",
      "a_spri_b08_10m: 1.2467114913250859\n",
      "a_spri_b08a_20m: 1.2648322931312217\n",
      "a_spri_b11_20m: 0.9191711842404177\n",
      "a_spri_b12_20m: 0.5780866439628762\n",
      "amp_1: 0.26880714600889194\n",
      "amp_2: 0.7106529013202147\n",
      "amp_3: 0.017623351484276916\n",
      "b_summ_b01_60m: 0.7373844695190042\n",
      "b_summ_b02_10m: 0.5331730509356425\n",
      "b_summ_b03_10m: 0.13398809817172003\n",
      "b_summ_b04_10m: 0.5504860609787282\n",
      "b_summ_b05_20m: 0.07815905655594989\n",
      "b_summ_b06_20m: 0.9069133453412304\n",
      "b_summ_b07_20m: 0.9605850569077745\n",
      "b_summ_b08_10m: 0.9448120761130875\n",
      "b_summ_b08a_20m: 0.9564663228371594\n",
      "b_summ_b11_20m: 0.12114139875855429\n",
      "b_summ_b12_20m: 0.3242153238515958\n",
      "c_fall_b01_60m: 0.7340693609491571\n",
      "c_fall_b02_10m: 0.6205249279800341\n",
      "c_fall_b03_10m: 0.34873970075515465\n",
      "c_fall_b04_10m: 0.5778562889118708\n",
      "c_fall_b05_20m: 0.007431037527105353\n",
      "c_fall_b06_20m: 0.7154424219897526\n",
      "c_fall_b07_20m: 0.7825674514409126\n",
      "c_fall_b08_10m: 0.7634719618804588\n",
      "c_fall_b08a_20m: 0.7998829547665289\n",
      "c_fall_b11_20m: 0.04708228420141395\n",
      "c_fall_b12_20m: 0.45862504354665357\n",
      "constant_coeff: 0.43518256871903355\n",
      "cos_1_coeff: 0.98422842097459\n",
      "cos_2_coeff: 0.8272009331094383\n",
      "cos_3_coeff: 0.07144966853751483\n",
      "phase_1: 0.26880714600889194\n",
      "phase_2: 0.7106529013202147\n",
      "phase_3: 0.017623351484276916\n",
      "sin_1_coeff: 0.10372355664762149\n",
      "sin_2_coeff: 0.12718798873632556\n",
      "sin_3_coeff: 0.19928851715988663\n",
      "t_coeff: 0.27369558727995275\n",
      "(1, 3)\n",
      "Brightness: nan\n",
      "Brightness_1: nan\n",
      "Brightness_2: nan\n",
      "Elevation: nan\n",
      "GaussianCurvature: nan\n",
      "Greenness: nan\n",
      "Greenness_1: nan\n",
      "Greenness_2: nan\n",
      "HH: nan\n",
      "HH/HV: nan\n",
      "HV: nan\n",
      "HorizontalCurvature: nan\n",
      "MeanCurvature: nan\n",
      "NDVI: nan\n",
      "NDVI_1: nan\n",
      "NDVI_2: nan\n",
      "SAVI: nan\n",
      "SAVI_1: nan\n",
      "SAVI_2: nan\n",
      "Slope: nan\n",
      "VH: nan\n",
      "VH_1: nan\n",
      "VV: nan\n",
      "VV/VH: nan\n",
      "VV/VH_1: nan\n",
      "VV_1: nan\n",
      "VerticalCurvature: nan\n",
      "Wetness: nan\n",
      "Wetness_1: nan\n",
      "Wetness_2: nan\n",
      "a_spri_b01_60m: nan\n",
      "a_spri_b02_10m: nan\n",
      "a_spri_b03_10m: nan\n",
      "a_spri_b04_10m: nan\n",
      "a_spri_b05_20m: nan\n",
      "a_spri_b06_20m: nan\n",
      "a_spri_b07_20m: nan\n",
      "a_spri_b08_10m: nan\n",
      "a_spri_b08a_20m: nan\n",
      "a_spri_b11_20m: nan\n",
      "a_spri_b12_20m: nan\n",
      "amp_1: nan\n",
      "amp_2: nan\n",
      "amp_3: nan\n",
      "b_summ_b01_60m: nan\n",
      "b_summ_b02_10m: nan\n",
      "b_summ_b03_10m: nan\n",
      "b_summ_b04_10m: nan\n",
      "b_summ_b05_20m: nan\n",
      "b_summ_b06_20m: nan\n",
      "b_summ_b07_20m: nan\n",
      "b_summ_b08_10m: nan\n",
      "b_summ_b08a_20m: nan\n",
      "b_summ_b11_20m: nan\n",
      "b_summ_b12_20m: nan\n",
      "c_fall_b01_60m: nan\n",
      "c_fall_b02_10m: nan\n",
      "c_fall_b03_10m: nan\n",
      "c_fall_b04_10m: nan\n",
      "c_fall_b05_20m: nan\n",
      "c_fall_b06_20m: nan\n",
      "c_fall_b07_20m: nan\n",
      "c_fall_b08_10m: nan\n",
      "c_fall_b08a_20m: nan\n",
      "c_fall_b11_20m: nan\n",
      "c_fall_b12_20m: nan\n",
      "constant_coeff: nan\n",
      "cos_1_coeff: nan\n",
      "cos_2_coeff: nan\n",
      "cos_3_coeff: nan\n",
      "phase_1: nan\n",
      "phase_2: nan\n",
      "phase_3: nan\n",
      "sin_1_coeff: nan\n",
      "sin_2_coeff: nan\n",
      "sin_3_coeff: nan\n",
      "t_coeff: nan\n",
      "(1, 4)\n",
      "Brightness: nan\n",
      "Brightness_1: nan\n",
      "Brightness_2: nan\n",
      "Elevation: nan\n",
      "GaussianCurvature: nan\n",
      "Greenness: nan\n",
      "Greenness_1: nan\n",
      "Greenness_2: nan\n",
      "HH: nan\n",
      "HH/HV: nan\n",
      "HV: nan\n",
      "HorizontalCurvature: nan\n",
      "MeanCurvature: nan\n",
      "NDVI: nan\n",
      "NDVI_1: nan\n",
      "NDVI_2: nan\n",
      "SAVI: nan\n",
      "SAVI_1: nan\n",
      "SAVI_2: nan\n",
      "Slope: nan\n",
      "VH: nan\n",
      "VH_1: nan\n",
      "VV: nan\n",
      "VV/VH: nan\n",
      "VV/VH_1: nan\n",
      "VV_1: nan\n",
      "VerticalCurvature: nan\n",
      "Wetness: nan\n",
      "Wetness_1: nan\n",
      "Wetness_2: nan\n",
      "a_spri_b01_60m: nan\n",
      "a_spri_b02_10m: nan\n",
      "a_spri_b03_10m: nan\n",
      "a_spri_b04_10m: nan\n",
      "a_spri_b05_20m: nan\n",
      "a_spri_b06_20m: nan\n",
      "a_spri_b07_20m: nan\n",
      "a_spri_b08_10m: nan\n",
      "a_spri_b08a_20m: nan\n",
      "a_spri_b11_20m: nan\n",
      "a_spri_b12_20m: nan\n",
      "amp_1: nan\n",
      "amp_2: nan\n",
      "amp_3: nan\n",
      "b_summ_b01_60m: nan\n",
      "b_summ_b02_10m: nan\n",
      "b_summ_b03_10m: nan\n",
      "b_summ_b04_10m: nan\n",
      "b_summ_b05_20m: nan\n",
      "b_summ_b06_20m: nan\n",
      "b_summ_b07_20m: nan\n",
      "b_summ_b08_10m: nan\n",
      "b_summ_b08a_20m: nan\n",
      "b_summ_b11_20m: nan\n",
      "b_summ_b12_20m: nan\n",
      "c_fall_b01_60m: nan\n",
      "c_fall_b02_10m: nan\n",
      "c_fall_b03_10m: nan\n",
      "c_fall_b04_10m: nan\n",
      "c_fall_b05_20m: nan\n",
      "c_fall_b06_20m: nan\n",
      "c_fall_b07_20m: nan\n",
      "c_fall_b08_10m: nan\n",
      "c_fall_b08a_20m: nan\n",
      "c_fall_b11_20m: nan\n",
      "c_fall_b12_20m: nan\n",
      "constant_coeff: nan\n",
      "cos_1_coeff: nan\n",
      "cos_2_coeff: nan\n",
      "cos_3_coeff: nan\n",
      "phase_1: nan\n",
      "phase_2: nan\n",
      "phase_3: nan\n",
      "sin_1_coeff: nan\n",
      "sin_2_coeff: nan\n",
      "sin_3_coeff: nan\n",
      "t_coeff: nan\n",
      "(1, 5)\n",
      "Brightness: nan\n",
      "Brightness_1: nan\n",
      "Brightness_2: nan\n",
      "Elevation: nan\n",
      "GaussianCurvature: nan\n",
      "Greenness: nan\n",
      "Greenness_1: nan\n",
      "Greenness_2: nan\n",
      "HH: nan\n",
      "HH/HV: nan\n",
      "HV: nan\n",
      "HorizontalCurvature: nan\n",
      "MeanCurvature: nan\n",
      "NDVI: nan\n",
      "NDVI_1: nan\n",
      "NDVI_2: nan\n",
      "SAVI: nan\n",
      "SAVI_1: nan\n",
      "SAVI_2: nan\n",
      "Slope: nan\n",
      "VH: nan\n",
      "VH_1: nan\n",
      "VV: nan\n",
      "VV/VH: nan\n",
      "VV/VH_1: nan\n",
      "VV_1: nan\n",
      "VerticalCurvature: nan\n",
      "Wetness: nan\n",
      "Wetness_1: nan\n",
      "Wetness_2: nan\n",
      "a_spri_b01_60m: nan\n",
      "a_spri_b02_10m: nan\n",
      "a_spri_b03_10m: nan\n",
      "a_spri_b04_10m: nan\n",
      "a_spri_b05_20m: nan\n",
      "a_spri_b06_20m: nan\n",
      "a_spri_b07_20m: nan\n",
      "a_spri_b08_10m: nan\n",
      "a_spri_b08a_20m: nan\n",
      "a_spri_b11_20m: nan\n",
      "a_spri_b12_20m: nan\n",
      "amp_1: nan\n",
      "amp_2: nan\n",
      "amp_3: nan\n",
      "b_summ_b01_60m: nan\n",
      "b_summ_b02_10m: nan\n",
      "b_summ_b03_10m: nan\n",
      "b_summ_b04_10m: nan\n",
      "b_summ_b05_20m: nan\n",
      "b_summ_b06_20m: nan\n",
      "b_summ_b07_20m: nan\n",
      "b_summ_b08_10m: nan\n",
      "b_summ_b08a_20m: nan\n",
      "b_summ_b11_20m: nan\n",
      "b_summ_b12_20m: nan\n",
      "c_fall_b01_60m: nan\n",
      "c_fall_b02_10m: nan\n",
      "c_fall_b03_10m: nan\n",
      "c_fall_b04_10m: nan\n",
      "c_fall_b05_20m: nan\n",
      "c_fall_b06_20m: nan\n",
      "c_fall_b07_20m: nan\n",
      "c_fall_b08_10m: nan\n",
      "c_fall_b08a_20m: nan\n",
      "c_fall_b11_20m: nan\n",
      "c_fall_b12_20m: nan\n",
      "constant_coeff: nan\n",
      "cos_1_coeff: nan\n",
      "cos_2_coeff: nan\n",
      "cos_3_coeff: nan\n",
      "phase_1: nan\n",
      "phase_2: nan\n",
      "phase_3: nan\n",
      "sin_1_coeff: nan\n",
      "sin_2_coeff: nan\n",
      "sin_3_coeff: nan\n",
      "t_coeff: nan\n",
      "(1, 6)\n",
      "Brightness: nan\n",
      "Brightness_1: nan\n",
      "Brightness_2: nan\n",
      "Elevation: nan\n",
      "GaussianCurvature: nan\n",
      "Greenness: nan\n",
      "Greenness_1: nan\n",
      "Greenness_2: nan\n",
      "HH: nan\n",
      "HH/HV: nan\n",
      "HV: nan\n",
      "HorizontalCurvature: nan\n",
      "MeanCurvature: nan\n",
      "NDVI: nan\n",
      "NDVI_1: nan\n",
      "NDVI_2: nan\n",
      "SAVI: nan\n",
      "SAVI_1: nan\n",
      "SAVI_2: nan\n",
      "Slope: nan\n",
      "VH: nan\n",
      "VH_1: nan\n",
      "VV: nan\n",
      "VV/VH: nan\n",
      "VV/VH_1: nan\n",
      "VV_1: nan\n",
      "VerticalCurvature: nan\n",
      "Wetness: nan\n",
      "Wetness_1: nan\n",
      "Wetness_2: nan\n",
      "a_spri_b01_60m: nan\n",
      "a_spri_b02_10m: nan\n",
      "a_spri_b03_10m: nan\n",
      "a_spri_b04_10m: nan\n",
      "a_spri_b05_20m: nan\n",
      "a_spri_b06_20m: nan\n",
      "a_spri_b07_20m: nan\n",
      "a_spri_b08_10m: nan\n",
      "a_spri_b08a_20m: nan\n",
      "a_spri_b11_20m: nan\n",
      "a_spri_b12_20m: nan\n",
      "amp_1: nan\n",
      "amp_2: nan\n",
      "amp_3: nan\n",
      "b_summ_b01_60m: nan\n",
      "b_summ_b02_10m: nan\n",
      "b_summ_b03_10m: nan\n",
      "b_summ_b04_10m: nan\n",
      "b_summ_b05_20m: nan\n",
      "b_summ_b06_20m: nan\n",
      "b_summ_b07_20m: nan\n",
      "b_summ_b08_10m: nan\n",
      "b_summ_b08a_20m: nan\n",
      "b_summ_b11_20m: nan\n",
      "b_summ_b12_20m: nan\n",
      "c_fall_b01_60m: nan\n",
      "c_fall_b02_10m: nan\n",
      "c_fall_b03_10m: nan\n",
      "c_fall_b04_10m: nan\n",
      "c_fall_b05_20m: nan\n",
      "c_fall_b06_20m: nan\n",
      "c_fall_b07_20m: nan\n",
      "c_fall_b08_10m: nan\n",
      "c_fall_b08a_20m: nan\n",
      "c_fall_b11_20m: nan\n",
      "c_fall_b12_20m: nan\n",
      "constant_coeff: nan\n",
      "cos_1_coeff: nan\n",
      "cos_2_coeff: nan\n",
      "cos_3_coeff: nan\n",
      "phase_1: nan\n",
      "phase_2: nan\n",
      "phase_3: nan\n",
      "sin_1_coeff: nan\n",
      "sin_2_coeff: nan\n",
      "sin_3_coeff: nan\n",
      "t_coeff: nan\n",
      "(1, 7)\n",
      "Brightness: nan\n",
      "Brightness_1: nan\n",
      "Brightness_2: nan\n",
      "Elevation: nan\n",
      "GaussianCurvature: nan\n",
      "Greenness: nan\n",
      "Greenness_1: nan\n",
      "Greenness_2: nan\n",
      "HH: nan\n",
      "HH/HV: nan\n",
      "HV: nan\n",
      "HorizontalCurvature: nan\n",
      "MeanCurvature: nan\n",
      "NDVI: nan\n",
      "NDVI_1: nan\n",
      "NDVI_2: nan\n",
      "SAVI: nan\n",
      "SAVI_1: nan\n",
      "SAVI_2: nan\n",
      "Slope: nan\n",
      "VH: nan\n",
      "VH_1: nan\n",
      "VV: nan\n",
      "VV/VH: nan\n",
      "VV/VH_1: nan\n",
      "VV_1: nan\n",
      "VerticalCurvature: nan\n",
      "Wetness: nan\n",
      "Wetness_1: nan\n",
      "Wetness_2: nan\n",
      "a_spri_b01_60m: nan\n",
      "a_spri_b02_10m: nan\n",
      "a_spri_b03_10m: nan\n",
      "a_spri_b04_10m: nan\n",
      "a_spri_b05_20m: nan\n",
      "a_spri_b06_20m: nan\n",
      "a_spri_b07_20m: nan\n",
      "a_spri_b08_10m: nan\n",
      "a_spri_b08a_20m: nan\n",
      "a_spri_b11_20m: nan\n",
      "a_spri_b12_20m: nan\n",
      "amp_1: nan\n",
      "amp_2: nan\n",
      "amp_3: nan\n",
      "b_summ_b01_60m: nan\n",
      "b_summ_b02_10m: nan\n",
      "b_summ_b03_10m: nan\n",
      "b_summ_b04_10m: nan\n",
      "b_summ_b05_20m: nan\n",
      "b_summ_b06_20m: nan\n",
      "b_summ_b07_20m: nan\n",
      "b_summ_b08_10m: nan\n",
      "b_summ_b08a_20m: nan\n",
      "b_summ_b11_20m: nan\n",
      "b_summ_b12_20m: nan\n",
      "c_fall_b01_60m: nan\n",
      "c_fall_b02_10m: nan\n",
      "c_fall_b03_10m: nan\n",
      "c_fall_b04_10m: nan\n",
      "c_fall_b05_20m: nan\n",
      "c_fall_b06_20m: nan\n",
      "c_fall_b07_20m: nan\n",
      "c_fall_b08_10m: nan\n",
      "c_fall_b08a_20m: nan\n",
      "c_fall_b11_20m: nan\n",
      "c_fall_b12_20m: nan\n",
      "constant_coeff: nan\n",
      "cos_1_coeff: nan\n",
      "cos_2_coeff: nan\n",
      "cos_3_coeff: nan\n",
      "phase_1: nan\n",
      "phase_2: nan\n",
      "phase_3: nan\n",
      "sin_1_coeff: nan\n",
      "sin_2_coeff: nan\n",
      "sin_3_coeff: nan\n",
      "t_coeff: nan\n",
      "(1, 8)\n",
      "Brightness: nan\n",
      "Brightness_1: nan\n",
      "Brightness_2: nan\n",
      "Elevation: nan\n",
      "GaussianCurvature: nan\n",
      "Greenness: nan\n",
      "Greenness_1: nan\n",
      "Greenness_2: nan\n",
      "HH: nan\n",
      "HH/HV: nan\n",
      "HV: nan\n",
      "HorizontalCurvature: nan\n",
      "MeanCurvature: nan\n",
      "NDVI: nan\n",
      "NDVI_1: nan\n",
      "NDVI_2: nan\n",
      "SAVI: nan\n",
      "SAVI_1: nan\n",
      "SAVI_2: nan\n",
      "Slope: nan\n",
      "VH: nan\n",
      "VH_1: nan\n",
      "VV: nan\n",
      "VV/VH: nan\n",
      "VV/VH_1: nan\n",
      "VV_1: nan\n",
      "VerticalCurvature: nan\n",
      "Wetness: nan\n",
      "Wetness_1: nan\n",
      "Wetness_2: nan\n",
      "a_spri_b01_60m: nan\n",
      "a_spri_b02_10m: nan\n",
      "a_spri_b03_10m: nan\n",
      "a_spri_b04_10m: nan\n",
      "a_spri_b05_20m: nan\n",
      "a_spri_b06_20m: nan\n",
      "a_spri_b07_20m: nan\n",
      "a_spri_b08_10m: nan\n",
      "a_spri_b08a_20m: nan\n",
      "a_spri_b11_20m: nan\n",
      "a_spri_b12_20m: nan\n",
      "amp_1: nan\n",
      "amp_2: nan\n",
      "amp_3: nan\n",
      "b_summ_b01_60m: nan\n",
      "b_summ_b02_10m: nan\n",
      "b_summ_b03_10m: nan\n",
      "b_summ_b04_10m: nan\n",
      "b_summ_b05_20m: nan\n",
      "b_summ_b06_20m: nan\n",
      "b_summ_b07_20m: nan\n",
      "b_summ_b08_10m: nan\n",
      "b_summ_b08a_20m: nan\n",
      "b_summ_b11_20m: nan\n",
      "b_summ_b12_20m: nan\n",
      "c_fall_b01_60m: nan\n",
      "c_fall_b02_10m: nan\n",
      "c_fall_b03_10m: nan\n",
      "c_fall_b04_10m: nan\n",
      "c_fall_b05_20m: nan\n",
      "c_fall_b06_20m: nan\n",
      "c_fall_b07_20m: nan\n",
      "c_fall_b08_10m: nan\n",
      "c_fall_b08a_20m: nan\n",
      "c_fall_b11_20m: nan\n",
      "c_fall_b12_20m: nan\n",
      "constant_coeff: nan\n",
      "cos_1_coeff: nan\n",
      "cos_2_coeff: nan\n",
      "cos_3_coeff: nan\n",
      "phase_1: nan\n",
      "phase_2: nan\n",
      "phase_3: nan\n",
      "sin_1_coeff: nan\n",
      "sin_2_coeff: nan\n",
      "sin_3_coeff: nan\n",
      "t_coeff: nan\n"
     ]
    }
   ],
   "source": [
    "for combo in combinations(labels, 2):\n",
    "    if combo[0] != 1:\n",
    "        break\n",
    "    print(combo)\n",
    "    dfin = df.copy()\n",
    "    for col in dfin.columns:\n",
    "        dfin = df[(df['class_name'] == combo[0]) | (df['class_name'] == combo[1])]\n",
    "        if col == 'class_name':\n",
    "            continue\n",
    "        dfc1 = dfin[dfin['class_name'] == combo[0]][col]\n",
    "        dfc2 = dfin[dfin['class_name'] == combo[1]][col]\n",
    "        c1_mean = dfc1.mean()\n",
    "        c2_mean = dfc2.mean()\n",
    "        cat = pd.concat([dfc1, dfc2])\n",
    "        std = cat.std()\n",
    "        score = abs(c1_mean - c2_mean) / std\n",
    "        print(f'{col}: {score}')\n",
    "    "
   ],
   "metadata": {
    "collapsed": false,
    "ExecuteTime": {
     "end_time": "2023-08-28T20:25:23.921628300Z",
     "start_time": "2023-08-28T20:25:22.596813700Z"
    }
   },
   "id": "6318e5c0b625c640"
  },
  {
   "cell_type": "code",
   "execution_count": 16,
   "outputs": [],
   "source": [],
   "metadata": {
    "collapsed": false,
    "ExecuteTime": {
     "end_time": "2023-08-28T20:25:23.921628300Z",
     "start_time": "2023-08-28T20:25:23.421835200Z"
    }
   },
   "id": "3d698cb9958c7038"
  }
 ],
 "metadata": {
  "kernelspec": {
   "display_name": "Python 3",
   "language": "python",
   "name": "python3"
  },
  "language_info": {
   "codemirror_mode": {
    "name": "ipython",
    "version": 2
   },
   "file_extension": ".py",
   "mimetype": "text/x-python",
   "name": "python",
   "nbconvert_exporter": "python",
   "pygments_lexer": "ipython2",
   "version": "2.7.6"
  }
 },
 "nbformat": 4,
 "nbformat_minor": 5
}
