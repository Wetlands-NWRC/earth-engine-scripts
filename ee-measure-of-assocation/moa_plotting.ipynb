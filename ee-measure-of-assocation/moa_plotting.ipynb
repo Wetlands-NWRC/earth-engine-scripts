{
 "cells": [
  {
   "cell_type": "code",
   "execution_count": 1,
   "id": "initial_id",
   "metadata": {
    "collapsed": true,
    "ExecuteTime": {
     "end_time": "2023-08-24T17:25:37.732507300Z",
     "start_time": "2023-08-24T17:25:36.672796900Z"
    }
   },
   "outputs": [],
   "source": [
    "import pandas as pd\n",
    "import matplotlib.pyplot as plt"
   ]
  },
  {
   "cell_type": "code",
   "execution_count": 2,
   "outputs": [
    {
     "data": {
      "text/plain": "  system:index  Brightness  Brightness_1  Brightness_2   Elevation  \\\n0          0_0   2219.2740     3644.3118     2983.1853  183.128712   \n1          1_0    326.8218      783.0737      752.4232  114.561850   \n2          2_0   3032.6624     2831.0404     2846.3911   87.621972   \n3          3_0   3698.9892     3375.2343     3135.9292   93.100778   \n4          4_0    329.4975      339.3223      241.6455  160.380712   \n\n   GaussianCurvature  Greenness  Greenness_1  Greenness_2           HH  ...  \\\n0      -1.111947e-07  1383.5968    2389.0840    1532.5927  5351.000000  ...   \n1      -3.356085e-08     9.3434     333.9811     271.9726  2170.222222  ...   \n2      -1.036272e-07  1501.6973    1629.3110    1607.4224  6217.555556  ...   \n3      -1.970626e-07  2570.6233    2576.7657    2421.1097  5447.444444  ...   \n4       1.447277e-07   -23.9396      56.7423      66.7478  1600.111111  ...   \n\n   cos_3_coeff  isTraining   phase_1   phase_2   phase_3  sin_1_coeff  \\\n0     0.508938           1 -0.569459  2.017689  1.817476     0.406582   \n1     0.505032           1 -0.949492  0.071245  2.007185     0.360472   \n2     0.505744           1 -0.572481  1.427724  1.871911     0.450827   \n3     0.500680           1 -0.763917  1.238851  2.053983     0.445311   \n4     0.503306           1 -1.011212 -1.001987  1.982560     0.352237   \n\n   sin_2_coeff  sin_3_coeff   t_coeff                                    .geo  \n0     0.457142     0.483894  0.501836  {\"type\":\"MultiPoint\",\"coordinates\":[]}  \n1     0.524289     0.460664  0.493707  {\"type\":\"MultiPoint\",\"coordinates\":[]}  \n2     0.496408     0.486329  0.501026  {\"type\":\"MultiPoint\",\"coordinates\":[]}  \n3     0.503122     0.479773  0.499924  {\"type\":\"MultiPoint\",\"coordinates\":[]}  \n4     0.428258     0.481460  0.503251  {\"type\":\"MultiPoint\",\"coordinates\":[]}  \n\n[5 rows x 81 columns]",
      "text/html": "<div>\n<style scoped>\n    .dataframe tbody tr th:only-of-type {\n        vertical-align: middle;\n    }\n\n    .dataframe tbody tr th {\n        vertical-align: top;\n    }\n\n    .dataframe thead th {\n        text-align: right;\n    }\n</style>\n<table border=\"1\" class=\"dataframe\">\n  <thead>\n    <tr style=\"text-align: right;\">\n      <th></th>\n      <th>system:index</th>\n      <th>Brightness</th>\n      <th>Brightness_1</th>\n      <th>Brightness_2</th>\n      <th>Elevation</th>\n      <th>GaussianCurvature</th>\n      <th>Greenness</th>\n      <th>Greenness_1</th>\n      <th>Greenness_2</th>\n      <th>HH</th>\n      <th>...</th>\n      <th>cos_3_coeff</th>\n      <th>isTraining</th>\n      <th>phase_1</th>\n      <th>phase_2</th>\n      <th>phase_3</th>\n      <th>sin_1_coeff</th>\n      <th>sin_2_coeff</th>\n      <th>sin_3_coeff</th>\n      <th>t_coeff</th>\n      <th>.geo</th>\n    </tr>\n  </thead>\n  <tbody>\n    <tr>\n      <th>0</th>\n      <td>0_0</td>\n      <td>2219.2740</td>\n      <td>3644.3118</td>\n      <td>2983.1853</td>\n      <td>183.128712</td>\n      <td>-1.111947e-07</td>\n      <td>1383.5968</td>\n      <td>2389.0840</td>\n      <td>1532.5927</td>\n      <td>5351.000000</td>\n      <td>...</td>\n      <td>0.508938</td>\n      <td>1</td>\n      <td>-0.569459</td>\n      <td>2.017689</td>\n      <td>1.817476</td>\n      <td>0.406582</td>\n      <td>0.457142</td>\n      <td>0.483894</td>\n      <td>0.501836</td>\n      <td>{\"type\":\"MultiPoint\",\"coordinates\":[]}</td>\n    </tr>\n    <tr>\n      <th>1</th>\n      <td>1_0</td>\n      <td>326.8218</td>\n      <td>783.0737</td>\n      <td>752.4232</td>\n      <td>114.561850</td>\n      <td>-3.356085e-08</td>\n      <td>9.3434</td>\n      <td>333.9811</td>\n      <td>271.9726</td>\n      <td>2170.222222</td>\n      <td>...</td>\n      <td>0.505032</td>\n      <td>1</td>\n      <td>-0.949492</td>\n      <td>0.071245</td>\n      <td>2.007185</td>\n      <td>0.360472</td>\n      <td>0.524289</td>\n      <td>0.460664</td>\n      <td>0.493707</td>\n      <td>{\"type\":\"MultiPoint\",\"coordinates\":[]}</td>\n    </tr>\n    <tr>\n      <th>2</th>\n      <td>2_0</td>\n      <td>3032.6624</td>\n      <td>2831.0404</td>\n      <td>2846.3911</td>\n      <td>87.621972</td>\n      <td>-1.036272e-07</td>\n      <td>1501.6973</td>\n      <td>1629.3110</td>\n      <td>1607.4224</td>\n      <td>6217.555556</td>\n      <td>...</td>\n      <td>0.505744</td>\n      <td>1</td>\n      <td>-0.572481</td>\n      <td>1.427724</td>\n      <td>1.871911</td>\n      <td>0.450827</td>\n      <td>0.496408</td>\n      <td>0.486329</td>\n      <td>0.501026</td>\n      <td>{\"type\":\"MultiPoint\",\"coordinates\":[]}</td>\n    </tr>\n    <tr>\n      <th>3</th>\n      <td>3_0</td>\n      <td>3698.9892</td>\n      <td>3375.2343</td>\n      <td>3135.9292</td>\n      <td>93.100778</td>\n      <td>-1.970626e-07</td>\n      <td>2570.6233</td>\n      <td>2576.7657</td>\n      <td>2421.1097</td>\n      <td>5447.444444</td>\n      <td>...</td>\n      <td>0.500680</td>\n      <td>1</td>\n      <td>-0.763917</td>\n      <td>1.238851</td>\n      <td>2.053983</td>\n      <td>0.445311</td>\n      <td>0.503122</td>\n      <td>0.479773</td>\n      <td>0.499924</td>\n      <td>{\"type\":\"MultiPoint\",\"coordinates\":[]}</td>\n    </tr>\n    <tr>\n      <th>4</th>\n      <td>4_0</td>\n      <td>329.4975</td>\n      <td>339.3223</td>\n      <td>241.6455</td>\n      <td>160.380712</td>\n      <td>1.447277e-07</td>\n      <td>-23.9396</td>\n      <td>56.7423</td>\n      <td>66.7478</td>\n      <td>1600.111111</td>\n      <td>...</td>\n      <td>0.503306</td>\n      <td>1</td>\n      <td>-1.011212</td>\n      <td>-1.001987</td>\n      <td>1.982560</td>\n      <td>0.352237</td>\n      <td>0.428258</td>\n      <td>0.481460</td>\n      <td>0.503251</td>\n      <td>{\"type\":\"MultiPoint\",\"coordinates\":[]}</td>\n    </tr>\n  </tbody>\n</table>\n<p>5 rows × 81 columns</p>\n</div>"
     },
     "execution_count": 2,
     "metadata": {},
     "output_type": "execute_result"
    }
   ],
   "source": [
    "df = pd.read_csv('data/raw/samples-124.csv')\n",
    "df.head()"
   ],
   "metadata": {
    "collapsed": false,
    "ExecuteTime": {
     "end_time": "2023-08-24T17:26:03.120087800Z",
     "start_time": "2023-08-24T17:26:02.897013500Z"
    }
   },
   "id": "e7e68fd8486df88d"
  },
  {
   "cell_type": "code",
   "execution_count": 19,
   "outputs": [
    {
     "data": {
      "text/plain": "    label  versus          predictor     score  rank\n0       1       2                 VH  1.466157     1\n1       1       2                 VV  1.401169     2\n2       1       2               SAVI  1.369976     3\n3       1       2               NDVI  1.369947     4\n4       1       2          Greenness  1.332665     5\n..    ...     ...                ...       ...   ...\n72      7       8  GaussianCurvature  0.047903    73\n73      7       8     a_spri_b05_20m  0.042942    74\n74      7       8              amp_2  0.039272    75\n75      7       8            phase_2  0.039272    76\n76      7       8        sin_3_coeff  0.021963    77\n\n[2156 rows x 5 columns]",
      "text/html": "<div>\n<style scoped>\n    .dataframe tbody tr th:only-of-type {\n        vertical-align: middle;\n    }\n\n    .dataframe tbody tr th {\n        vertical-align: top;\n    }\n\n    .dataframe thead th {\n        text-align: right;\n    }\n</style>\n<table border=\"1\" class=\"dataframe\">\n  <thead>\n    <tr style=\"text-align: right;\">\n      <th></th>\n      <th>label</th>\n      <th>versus</th>\n      <th>predictor</th>\n      <th>score</th>\n      <th>rank</th>\n    </tr>\n  </thead>\n  <tbody>\n    <tr>\n      <th>0</th>\n      <td>1</td>\n      <td>2</td>\n      <td>VH</td>\n      <td>1.466157</td>\n      <td>1</td>\n    </tr>\n    <tr>\n      <th>1</th>\n      <td>1</td>\n      <td>2</td>\n      <td>VV</td>\n      <td>1.401169</td>\n      <td>2</td>\n    </tr>\n    <tr>\n      <th>2</th>\n      <td>1</td>\n      <td>2</td>\n      <td>SAVI</td>\n      <td>1.369976</td>\n      <td>3</td>\n    </tr>\n    <tr>\n      <th>3</th>\n      <td>1</td>\n      <td>2</td>\n      <td>NDVI</td>\n      <td>1.369947</td>\n      <td>4</td>\n    </tr>\n    <tr>\n      <th>4</th>\n      <td>1</td>\n      <td>2</td>\n      <td>Greenness</td>\n      <td>1.332665</td>\n      <td>5</td>\n    </tr>\n    <tr>\n      <th>...</th>\n      <td>...</td>\n      <td>...</td>\n      <td>...</td>\n      <td>...</td>\n      <td>...</td>\n    </tr>\n    <tr>\n      <th>72</th>\n      <td>7</td>\n      <td>8</td>\n      <td>GaussianCurvature</td>\n      <td>0.047903</td>\n      <td>73</td>\n    </tr>\n    <tr>\n      <th>73</th>\n      <td>7</td>\n      <td>8</td>\n      <td>a_spri_b05_20m</td>\n      <td>0.042942</td>\n      <td>74</td>\n    </tr>\n    <tr>\n      <th>74</th>\n      <td>7</td>\n      <td>8</td>\n      <td>amp_2</td>\n      <td>0.039272</td>\n      <td>75</td>\n    </tr>\n    <tr>\n      <th>75</th>\n      <td>7</td>\n      <td>8</td>\n      <td>phase_2</td>\n      <td>0.039272</td>\n      <td>76</td>\n    </tr>\n    <tr>\n      <th>76</th>\n      <td>7</td>\n      <td>8</td>\n      <td>sin_3_coeff</td>\n      <td>0.021963</td>\n      <td>77</td>\n    </tr>\n  </tbody>\n</table>\n<p>2156 rows × 5 columns</p>\n</div>"
     },
     "execution_count": 19,
     "metadata": {},
     "output_type": "execute_result"
    }
   ],
   "source": [
    "from moa import create_table\n",
    "\n",
    "moa_table = create_table(df, label_col='class_name')\n",
    "moa_table"
   ],
   "metadata": {
    "collapsed": false,
    "ExecuteTime": {
     "end_time": "2023-08-24T18:02:37.437448700Z",
     "start_time": "2023-08-24T18:02:34.053130700Z"
    }
   },
   "id": "63582aea8c506309"
  },
  {
   "cell_type": "code",
   "execution_count": 20,
   "outputs": [
    {
     "data": {
      "text/plain": "    label  versus      predictor     score  rank\n0       1       2             VH  1.466157     1\n1       1       2             VV  1.401169     2\n2       1       2           SAVI  1.369976     3\n0       1       3         SAVI_1  1.666849     1\n1       1       3         NDVI_1  1.666366     2\n..    ...     ...            ...       ...   ...\n1       6       8  MeanCurvature  0.858307     2\n2       6       8             HH  0.834829     3\n0       7       8      Elevation  1.639595     1\n1       7       8             HV  1.590886     2\n2       7       8         NDVI_2  1.495907     3\n\n[84 rows x 5 columns]",
      "text/html": "<div>\n<style scoped>\n    .dataframe tbody tr th:only-of-type {\n        vertical-align: middle;\n    }\n\n    .dataframe tbody tr th {\n        vertical-align: top;\n    }\n\n    .dataframe thead th {\n        text-align: right;\n    }\n</style>\n<table border=\"1\" class=\"dataframe\">\n  <thead>\n    <tr style=\"text-align: right;\">\n      <th></th>\n      <th>label</th>\n      <th>versus</th>\n      <th>predictor</th>\n      <th>score</th>\n      <th>rank</th>\n    </tr>\n  </thead>\n  <tbody>\n    <tr>\n      <th>0</th>\n      <td>1</td>\n      <td>2</td>\n      <td>VH</td>\n      <td>1.466157</td>\n      <td>1</td>\n    </tr>\n    <tr>\n      <th>1</th>\n      <td>1</td>\n      <td>2</td>\n      <td>VV</td>\n      <td>1.401169</td>\n      <td>2</td>\n    </tr>\n    <tr>\n      <th>2</th>\n      <td>1</td>\n      <td>2</td>\n      <td>SAVI</td>\n      <td>1.369976</td>\n      <td>3</td>\n    </tr>\n    <tr>\n      <th>0</th>\n      <td>1</td>\n      <td>3</td>\n      <td>SAVI_1</td>\n      <td>1.666849</td>\n      <td>1</td>\n    </tr>\n    <tr>\n      <th>1</th>\n      <td>1</td>\n      <td>3</td>\n      <td>NDVI_1</td>\n      <td>1.666366</td>\n      <td>2</td>\n    </tr>\n    <tr>\n      <th>...</th>\n      <td>...</td>\n      <td>...</td>\n      <td>...</td>\n      <td>...</td>\n      <td>...</td>\n    </tr>\n    <tr>\n      <th>1</th>\n      <td>6</td>\n      <td>8</td>\n      <td>MeanCurvature</td>\n      <td>0.858307</td>\n      <td>2</td>\n    </tr>\n    <tr>\n      <th>2</th>\n      <td>6</td>\n      <td>8</td>\n      <td>HH</td>\n      <td>0.834829</td>\n      <td>3</td>\n    </tr>\n    <tr>\n      <th>0</th>\n      <td>7</td>\n      <td>8</td>\n      <td>Elevation</td>\n      <td>1.639595</td>\n      <td>1</td>\n    </tr>\n    <tr>\n      <th>1</th>\n      <td>7</td>\n      <td>8</td>\n      <td>HV</td>\n      <td>1.590886</td>\n      <td>2</td>\n    </tr>\n    <tr>\n      <th>2</th>\n      <td>7</td>\n      <td>8</td>\n      <td>NDVI_2</td>\n      <td>1.495907</td>\n      <td>3</td>\n    </tr>\n  </tbody>\n</table>\n<p>84 rows × 5 columns</p>\n</div>"
     },
     "execution_count": 20,
     "metadata": {},
     "output_type": "execute_result"
    }
   ],
   "source": [
    "rank_1_3 = moa_table[moa_table['rank'] <= 3]\n",
    "rank_1_3"
   ],
   "metadata": {
    "collapsed": false,
    "ExecuteTime": {
     "end_time": "2023-08-24T18:03:16.795747200Z",
     "start_time": "2023-08-24T18:03:16.795236700Z"
    }
   },
   "id": "d4d636826b1a4b6a"
  },
  {
   "cell_type": "code",
   "execution_count": 36,
   "outputs": [
    {
     "data": {
      "text/plain": "<Figure size 640x480 with 0 Axes>"
     },
     "metadata": {},
     "output_type": "display_data"
    }
   ],
   "source": [
    "import matplotlib.pyplot as plt\n",
    "import os\n",
    "\n",
    "for _, row in rank_1_3.iterrows():\n",
    "    # print(row)\n",
    "    # Sample data for two classes\n",
    "    label = df[(df['class_name'] == row['label'])][row['predictor']] \n",
    "    versus = df[(df['class_name'] == row['versus'])][row['predictor']]\n",
    "    \n",
    "    # Plot histogram\n",
    "    plt.hist(label, bins=100, alpha=0.5, label=row['label'])\n",
    "    plt.hist(versus, bins=100, alpha=0.5, label=row['versus'])\n",
    "    plt.legend(loc='upper right')\n",
    "    \n",
    "    plt.xlabel('Value')\n",
    "    plt.ylabel('Frequency')\n",
    "    plt.title(f'{row[\"predictor\"]} for {row[\"label\"]} vs {row[\"versus\"]}')\n",
    "    \n",
    "    outdir = f'data/plots'\n",
    "    \n",
    "    if not os.path.exists(outdir):\n",
    "        os.makedirs(outdir)\n",
    "    filename = f'{row[\"label\"]}-vs-{row[\"versus\"]}-{row[\"predictor\"]}.png'\n",
    "    plt.savefig(os.path.join(outdir, filename))\n",
    "    \n",
    "    plt.clf()\n",
    "# "
   ],
   "metadata": {
    "collapsed": false,
    "ExecuteTime": {
     "end_time": "2023-08-24T18:23:58.187191100Z",
     "start_time": "2023-08-24T18:23:35.075816700Z"
    }
   },
   "id": "4cf11dacf6238f4"
  },
  {
   "cell_type": "code",
   "execution_count": null,
   "outputs": [],
   "source": [],
   "metadata": {
    "collapsed": false
   },
   "id": "d54a469493cfb173"
  }
 ],
 "metadata": {
  "kernelspec": {
   "display_name": "Python 3",
   "language": "python",
   "name": "python3"
  },
  "language_info": {
   "codemirror_mode": {
    "name": "ipython",
    "version": 2
   },
   "file_extension": ".py",
   "mimetype": "text/x-python",
   "name": "python",
   "nbconvert_exporter": "python",
   "pygments_lexer": "ipython2",
   "version": "2.7.6"
  }
 },
 "nbformat": 4,
 "nbformat_minor": 5
}
