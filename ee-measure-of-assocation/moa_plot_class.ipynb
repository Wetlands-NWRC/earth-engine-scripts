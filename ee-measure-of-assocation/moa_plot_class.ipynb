{
 "cells": [
  {
   "cell_type": "code",
   "execution_count": 1,
   "id": "initial_id",
   "metadata": {
    "collapsed": true,
    "ExecuteTime": {
     "end_time": "2023-08-24T19:17:15.293356400Z",
     "start_time": "2023-08-24T19:17:14.354636800Z"
    }
   },
   "outputs": [],
   "source": [
    "import pandas as pd\n",
    "import matplotlib.pyplot as plt"
   ]
  },
  {
   "cell_type": "code",
   "execution_count": null,
   "outputs": [],
   "source": [
    "\n",
    "class MoaPlot:\n",
    "    def __init__(self, title, x_label, y_label):\n",
    "        self.title = title\n",
    "        self.x_label = x_label\n",
    "        self.y_label = y_label\n",
    "        self.fig, self.ax = plt.subplots()\n",
    "    \n",
    "    def add_histogram(self, data, label=None, bin=100, alpha=0.5,):\n",
    "        self.ax.hist(data, bins=bin, alpha=alpha, label=label)\n",
    "        self.ax.set_xlabel(self.x_label)\n",
    "        self.ax.set_ylabel(self.y_label)\n",
    "        self.ax.set_title(self.title)\n",
    "        self.ax.legend()\n",
    "    \n",
    "    def show(self):\n",
    "        plt.show()\n",
    "        \n",
    "    def save(self, path):\n",
    "        self.fig.savefig(path)\n",
    "    "
   ],
   "metadata": {
    "collapsed": false
   },
   "id": "1430fbb1a44d13d4"
  }
 ],
 "metadata": {
  "kernelspec": {
   "display_name": "Python 3",
   "language": "python",
   "name": "python3"
  },
  "language_info": {
   "codemirror_mode": {
    "name": "ipython",
    "version": 2
   },
   "file_extension": ".py",
   "mimetype": "text/x-python",
   "name": "python",
   "nbconvert_exporter": "python",
   "pygments_lexer": "ipython2",
   "version": "2.7.6"
  }
 },
 "nbformat": 4,
 "nbformat_minor": 5
}
