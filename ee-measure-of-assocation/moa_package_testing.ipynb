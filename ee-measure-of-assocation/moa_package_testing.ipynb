{
 "cells": [
  {
   "cell_type": "code",
   "execution_count": 1,
   "id": "initial_id",
   "metadata": {
    "collapsed": true,
    "ExecuteTime": {
     "end_time": "2023-08-28T17:54:15.833630200Z",
     "start_time": "2023-08-28T17:54:15.291677200Z"
    }
   },
   "outputs": [],
   "source": [
    "import pandas as pd\n",
    "from moa.scores import moa_scores"
   ]
  },
  {
   "cell_type": "code",
   "execution_count": 2,
   "outputs": [
    {
     "data": {
      "text/plain": "  system:index  Brightness  Brightness_1  Brightness_2   Elevation  \\\n0          0_0   2219.2740     3644.3118     2983.1853  183.128712   \n1          1_0    326.8218      783.0737      752.4232  114.561850   \n2          2_0   3032.6624     2831.0404     2846.3911   87.621972   \n3          3_0   3698.9892     3375.2343     3135.9292   93.100778   \n4          4_0    329.4975      339.3223      241.6455  160.380712   \n\n   GaussianCurvature  Greenness  Greenness_1  Greenness_2           HH  ...  \\\n0      -1.111947e-07  1383.5968    2389.0840    1532.5927  5351.000000  ...   \n1      -3.356085e-08     9.3434     333.9811     271.9726  2170.222222  ...   \n2      -1.036272e-07  1501.6973    1629.3110    1607.4224  6217.555556  ...   \n3      -1.970626e-07  2570.6233    2576.7657    2421.1097  5447.444444  ...   \n4       1.447277e-07   -23.9396      56.7423      66.7478  1600.111111  ...   \n\n   cos_3_coeff  isTraining   phase_1   phase_2   phase_3  sin_1_coeff  \\\n0     0.508938           1 -0.569459  2.017689  1.817476     0.406582   \n1     0.505032           1 -0.949492  0.071245  2.007185     0.360472   \n2     0.505744           1 -0.572481  1.427724  1.871911     0.450827   \n3     0.500680           1 -0.763917  1.238851  2.053983     0.445311   \n4     0.503306           1 -1.011212 -1.001987  1.982560     0.352237   \n\n   sin_2_coeff  sin_3_coeff   t_coeff                                    .geo  \n0     0.457142     0.483894  0.501836  {\"type\":\"MultiPoint\",\"coordinates\":[]}  \n1     0.524289     0.460664  0.493707  {\"type\":\"MultiPoint\",\"coordinates\":[]}  \n2     0.496408     0.486329  0.501026  {\"type\":\"MultiPoint\",\"coordinates\":[]}  \n3     0.503122     0.479773  0.499924  {\"type\":\"MultiPoint\",\"coordinates\":[]}  \n4     0.428258     0.481460  0.503251  {\"type\":\"MultiPoint\",\"coordinates\":[]}  \n\n[5 rows x 81 columns]",
      "text/html": "<div>\n<style scoped>\n    .dataframe tbody tr th:only-of-type {\n        vertical-align: middle;\n    }\n\n    .dataframe tbody tr th {\n        vertical-align: top;\n    }\n\n    .dataframe thead th {\n        text-align: right;\n    }\n</style>\n<table border=\"1\" class=\"dataframe\">\n  <thead>\n    <tr style=\"text-align: right;\">\n      <th></th>\n      <th>system:index</th>\n      <th>Brightness</th>\n      <th>Brightness_1</th>\n      <th>Brightness_2</th>\n      <th>Elevation</th>\n      <th>GaussianCurvature</th>\n      <th>Greenness</th>\n      <th>Greenness_1</th>\n      <th>Greenness_2</th>\n      <th>HH</th>\n      <th>...</th>\n      <th>cos_3_coeff</th>\n      <th>isTraining</th>\n      <th>phase_1</th>\n      <th>phase_2</th>\n      <th>phase_3</th>\n      <th>sin_1_coeff</th>\n      <th>sin_2_coeff</th>\n      <th>sin_3_coeff</th>\n      <th>t_coeff</th>\n      <th>.geo</th>\n    </tr>\n  </thead>\n  <tbody>\n    <tr>\n      <th>0</th>\n      <td>0_0</td>\n      <td>2219.2740</td>\n      <td>3644.3118</td>\n      <td>2983.1853</td>\n      <td>183.128712</td>\n      <td>-1.111947e-07</td>\n      <td>1383.5968</td>\n      <td>2389.0840</td>\n      <td>1532.5927</td>\n      <td>5351.000000</td>\n      <td>...</td>\n      <td>0.508938</td>\n      <td>1</td>\n      <td>-0.569459</td>\n      <td>2.017689</td>\n      <td>1.817476</td>\n      <td>0.406582</td>\n      <td>0.457142</td>\n      <td>0.483894</td>\n      <td>0.501836</td>\n      <td>{\"type\":\"MultiPoint\",\"coordinates\":[]}</td>\n    </tr>\n    <tr>\n      <th>1</th>\n      <td>1_0</td>\n      <td>326.8218</td>\n      <td>783.0737</td>\n      <td>752.4232</td>\n      <td>114.561850</td>\n      <td>-3.356085e-08</td>\n      <td>9.3434</td>\n      <td>333.9811</td>\n      <td>271.9726</td>\n      <td>2170.222222</td>\n      <td>...</td>\n      <td>0.505032</td>\n      <td>1</td>\n      <td>-0.949492</td>\n      <td>0.071245</td>\n      <td>2.007185</td>\n      <td>0.360472</td>\n      <td>0.524289</td>\n      <td>0.460664</td>\n      <td>0.493707</td>\n      <td>{\"type\":\"MultiPoint\",\"coordinates\":[]}</td>\n    </tr>\n    <tr>\n      <th>2</th>\n      <td>2_0</td>\n      <td>3032.6624</td>\n      <td>2831.0404</td>\n      <td>2846.3911</td>\n      <td>87.621972</td>\n      <td>-1.036272e-07</td>\n      <td>1501.6973</td>\n      <td>1629.3110</td>\n      <td>1607.4224</td>\n      <td>6217.555556</td>\n      <td>...</td>\n      <td>0.505744</td>\n      <td>1</td>\n      <td>-0.572481</td>\n      <td>1.427724</td>\n      <td>1.871911</td>\n      <td>0.450827</td>\n      <td>0.496408</td>\n      <td>0.486329</td>\n      <td>0.501026</td>\n      <td>{\"type\":\"MultiPoint\",\"coordinates\":[]}</td>\n    </tr>\n    <tr>\n      <th>3</th>\n      <td>3_0</td>\n      <td>3698.9892</td>\n      <td>3375.2343</td>\n      <td>3135.9292</td>\n      <td>93.100778</td>\n      <td>-1.970626e-07</td>\n      <td>2570.6233</td>\n      <td>2576.7657</td>\n      <td>2421.1097</td>\n      <td>5447.444444</td>\n      <td>...</td>\n      <td>0.500680</td>\n      <td>1</td>\n      <td>-0.763917</td>\n      <td>1.238851</td>\n      <td>2.053983</td>\n      <td>0.445311</td>\n      <td>0.503122</td>\n      <td>0.479773</td>\n      <td>0.499924</td>\n      <td>{\"type\":\"MultiPoint\",\"coordinates\":[]}</td>\n    </tr>\n    <tr>\n      <th>4</th>\n      <td>4_0</td>\n      <td>329.4975</td>\n      <td>339.3223</td>\n      <td>241.6455</td>\n      <td>160.380712</td>\n      <td>1.447277e-07</td>\n      <td>-23.9396</td>\n      <td>56.7423</td>\n      <td>66.7478</td>\n      <td>1600.111111</td>\n      <td>...</td>\n      <td>0.503306</td>\n      <td>1</td>\n      <td>-1.011212</td>\n      <td>-1.001987</td>\n      <td>1.982560</td>\n      <td>0.352237</td>\n      <td>0.428258</td>\n      <td>0.481460</td>\n      <td>0.503251</td>\n      <td>{\"type\":\"MultiPoint\",\"coordinates\":[]}</td>\n    </tr>\n  </tbody>\n</table>\n<p>5 rows × 81 columns</p>\n</div>"
     },
     "execution_count": 2,
     "metadata": {},
     "output_type": "execute_result"
    }
   ],
   "source": [
    "data = pd.read_csv('./data/raw/samples-124.csv')\n",
    "data.head()"
   ],
   "metadata": {
    "collapsed": false,
    "ExecuteTime": {
     "end_time": "2023-08-28T17:54:15.963535100Z",
     "start_time": "2023-08-28T17:54:15.837142900Z"
    }
   },
   "id": "d3fa5cf51737909f"
  },
  {
   "cell_type": "code",
   "execution_count": 3,
   "outputs": [],
   "source": [
    "scores = moa_scores(\n",
    "    df=data,\n",
    "    label_col='class_name'\n",
    ")\n"
   ],
   "metadata": {
    "collapsed": false,
    "ExecuteTime": {
     "end_time": "2023-08-28T17:54:19.775622Z",
     "start_time": "2023-08-28T17:54:17.192796900Z"
    }
   },
   "id": "9cad3d075048de26"
  },
  {
   "cell_type": "code",
   "execution_count": 4,
   "outputs": [
    {
     "data": {
      "text/plain": "   label  versus          predictor     score  rank\n0      1       2         Brightness  1.028825  19.0\n1      1       2       Brightness_1  0.387396  52.0\n2      1       2       Brightness_2  0.152214  63.0\n3      1       2          Elevation  0.148906  64.0\n4      1       2  GaussianCurvature  0.172444  62.0",
      "text/html": "<div>\n<style scoped>\n    .dataframe tbody tr th:only-of-type {\n        vertical-align: middle;\n    }\n\n    .dataframe tbody tr th {\n        vertical-align: top;\n    }\n\n    .dataframe thead th {\n        text-align: right;\n    }\n</style>\n<table border=\"1\" class=\"dataframe\">\n  <thead>\n    <tr style=\"text-align: right;\">\n      <th></th>\n      <th>label</th>\n      <th>versus</th>\n      <th>predictor</th>\n      <th>score</th>\n      <th>rank</th>\n    </tr>\n  </thead>\n  <tbody>\n    <tr>\n      <th>0</th>\n      <td>1</td>\n      <td>2</td>\n      <td>Brightness</td>\n      <td>1.028825</td>\n      <td>19.0</td>\n    </tr>\n    <tr>\n      <th>1</th>\n      <td>1</td>\n      <td>2</td>\n      <td>Brightness_1</td>\n      <td>0.387396</td>\n      <td>52.0</td>\n    </tr>\n    <tr>\n      <th>2</th>\n      <td>1</td>\n      <td>2</td>\n      <td>Brightness_2</td>\n      <td>0.152214</td>\n      <td>63.0</td>\n    </tr>\n    <tr>\n      <th>3</th>\n      <td>1</td>\n      <td>2</td>\n      <td>Elevation</td>\n      <td>0.148906</td>\n      <td>64.0</td>\n    </tr>\n    <tr>\n      <th>4</th>\n      <td>1</td>\n      <td>2</td>\n      <td>GaussianCurvature</td>\n      <td>0.172444</td>\n      <td>62.0</td>\n    </tr>\n  </tbody>\n</table>\n</div>"
     },
     "execution_count": 4,
     "metadata": {},
     "output_type": "execute_result"
    }
   ],
   "source": [
    "scores.head()"
   ],
   "metadata": {
    "collapsed": false,
    "ExecuteTime": {
     "end_time": "2023-08-28T17:54:19.807499400Z",
     "start_time": "2023-08-28T17:54:19.775622Z"
    }
   },
   "id": "5cae752f7a25c7ad"
  },
  {
   "cell_type": "code",
   "execution_count": 11,
   "outputs": [
    {
     "data": {
      "text/plain": "    label  versus       predictor     score  rank\n20      1       2              VH  1.466157   1.0\n17      1       3          SAVI_1  1.666849   1.0\n20      1       4              VH  0.931624   1.0\n7       1       5     Greenness_2  0.735020   1.0\n16      1       6            SAVI  0.927973   1.0\n3       1       7       Elevation  1.527829   1.0\n10      1       8              HV  1.377951   1.0\n61      2       3  c_fall_b07_20m  1.394563   1.0\n22      2       4              VV  1.843227   1.0\n22      2       5              VV  1.783006   1.0",
      "text/html": "<div>\n<style scoped>\n    .dataframe tbody tr th:only-of-type {\n        vertical-align: middle;\n    }\n\n    .dataframe tbody tr th {\n        vertical-align: top;\n    }\n\n    .dataframe thead th {\n        text-align: right;\n    }\n</style>\n<table border=\"1\" class=\"dataframe\">\n  <thead>\n    <tr style=\"text-align: right;\">\n      <th></th>\n      <th>label</th>\n      <th>versus</th>\n      <th>predictor</th>\n      <th>score</th>\n      <th>rank</th>\n    </tr>\n  </thead>\n  <tbody>\n    <tr>\n      <th>20</th>\n      <td>1</td>\n      <td>2</td>\n      <td>VH</td>\n      <td>1.466157</td>\n      <td>1.0</td>\n    </tr>\n    <tr>\n      <th>17</th>\n      <td>1</td>\n      <td>3</td>\n      <td>SAVI_1</td>\n      <td>1.666849</td>\n      <td>1.0</td>\n    </tr>\n    <tr>\n      <th>20</th>\n      <td>1</td>\n      <td>4</td>\n      <td>VH</td>\n      <td>0.931624</td>\n      <td>1.0</td>\n    </tr>\n    <tr>\n      <th>7</th>\n      <td>1</td>\n      <td>5</td>\n      <td>Greenness_2</td>\n      <td>0.735020</td>\n      <td>1.0</td>\n    </tr>\n    <tr>\n      <th>16</th>\n      <td>1</td>\n      <td>6</td>\n      <td>SAVI</td>\n      <td>0.927973</td>\n      <td>1.0</td>\n    </tr>\n    <tr>\n      <th>3</th>\n      <td>1</td>\n      <td>7</td>\n      <td>Elevation</td>\n      <td>1.527829</td>\n      <td>1.0</td>\n    </tr>\n    <tr>\n      <th>10</th>\n      <td>1</td>\n      <td>8</td>\n      <td>HV</td>\n      <td>1.377951</td>\n      <td>1.0</td>\n    </tr>\n    <tr>\n      <th>61</th>\n      <td>2</td>\n      <td>3</td>\n      <td>c_fall_b07_20m</td>\n      <td>1.394563</td>\n      <td>1.0</td>\n    </tr>\n    <tr>\n      <th>22</th>\n      <td>2</td>\n      <td>4</td>\n      <td>VV</td>\n      <td>1.843227</td>\n      <td>1.0</td>\n    </tr>\n    <tr>\n      <th>22</th>\n      <td>2</td>\n      <td>5</td>\n      <td>VV</td>\n      <td>1.783006</td>\n      <td>1.0</td>\n    </tr>\n  </tbody>\n</table>\n</div>"
     },
     "execution_count": 11,
     "metadata": {},
     "output_type": "execute_result"
    }
   ],
   "source": [
    "scores.sort_values(by=['rank', 'label', 'versus'], ascending=True).head(10)"
   ],
   "metadata": {
    "collapsed": false,
    "ExecuteTime": {
     "end_time": "2023-08-28T17:57:10.249309900Z",
     "start_time": "2023-08-28T17:57:10.232977600Z"
    }
   },
   "id": "67fd129a6b0f7742"
  },
  {
   "cell_type": "code",
   "execution_count": 9,
   "outputs": [
    {
     "data": {
      "text/plain": "    label  versus        predictor     score  rank\n3       7       8        Elevation  1.639595   1.0\n20      1       2               VH  1.466157   1.0\n3       6       7        Elevation  1.799827   1.0\n20      1       4               VH  0.931624   1.0\n10      6       8               HV  1.115912   1.0\n10      4       5               HV  0.681683   1.0\n29      5       6        Wetness_2  1.025077   1.0\n22      2       4               VV  1.843227   1.0\n16      1       6             SAVI  0.927973   1.0\n22      2       5               VV  1.783006   1.0\n0       3       4       Brightness  1.924116   1.0\n5       2       6        Greenness  1.906002   1.0\n22      2       8               VV  1.875021   1.0\n10      5       8               HV  1.333106   1.0\n22      2       7               VV  1.760779   1.0\n12      4       8    MeanCurvature  1.004729   1.0\n10      1       8               HV  1.377951   1.0\n3       1       7        Elevation  1.527829   1.0\n38      3       6  a_spri_b08a_20m  1.970697   1.0\n63      3       5  c_fall_b08a_20m  1.913569   1.0\n60      3       8   c_fall_b06_20m  1.929027   1.0\n17      1       3           SAVI_1  1.666849   1.0\n3       5       7        Elevation  1.552423   1.0\n3       4       7        Elevation  1.584055   1.0\n61      2       3   c_fall_b07_20m  1.394563   1.0\n34      3       7   a_spri_b05_20m  1.905465   1.0\n7       1       5      Greenness_2  0.735020   1.0",
      "text/html": "<div>\n<style scoped>\n    .dataframe tbody tr th:only-of-type {\n        vertical-align: middle;\n    }\n\n    .dataframe tbody tr th {\n        vertical-align: top;\n    }\n\n    .dataframe thead th {\n        text-align: right;\n    }\n</style>\n<table border=\"1\" class=\"dataframe\">\n  <thead>\n    <tr style=\"text-align: right;\">\n      <th></th>\n      <th>label</th>\n      <th>versus</th>\n      <th>predictor</th>\n      <th>score</th>\n      <th>rank</th>\n    </tr>\n  </thead>\n  <tbody>\n    <tr>\n      <th>3</th>\n      <td>7</td>\n      <td>8</td>\n      <td>Elevation</td>\n      <td>1.639595</td>\n      <td>1.0</td>\n    </tr>\n    <tr>\n      <th>20</th>\n      <td>1</td>\n      <td>2</td>\n      <td>VH</td>\n      <td>1.466157</td>\n      <td>1.0</td>\n    </tr>\n    <tr>\n      <th>3</th>\n      <td>6</td>\n      <td>7</td>\n      <td>Elevation</td>\n      <td>1.799827</td>\n      <td>1.0</td>\n    </tr>\n    <tr>\n      <th>20</th>\n      <td>1</td>\n      <td>4</td>\n      <td>VH</td>\n      <td>0.931624</td>\n      <td>1.0</td>\n    </tr>\n    <tr>\n      <th>10</th>\n      <td>6</td>\n      <td>8</td>\n      <td>HV</td>\n      <td>1.115912</td>\n      <td>1.0</td>\n    </tr>\n    <tr>\n      <th>10</th>\n      <td>4</td>\n      <td>5</td>\n      <td>HV</td>\n      <td>0.681683</td>\n      <td>1.0</td>\n    </tr>\n    <tr>\n      <th>29</th>\n      <td>5</td>\n      <td>6</td>\n      <td>Wetness_2</td>\n      <td>1.025077</td>\n      <td>1.0</td>\n    </tr>\n    <tr>\n      <th>22</th>\n      <td>2</td>\n      <td>4</td>\n      <td>VV</td>\n      <td>1.843227</td>\n      <td>1.0</td>\n    </tr>\n    <tr>\n      <th>16</th>\n      <td>1</td>\n      <td>6</td>\n      <td>SAVI</td>\n      <td>0.927973</td>\n      <td>1.0</td>\n    </tr>\n    <tr>\n      <th>22</th>\n      <td>2</td>\n      <td>5</td>\n      <td>VV</td>\n      <td>1.783006</td>\n      <td>1.0</td>\n    </tr>\n    <tr>\n      <th>0</th>\n      <td>3</td>\n      <td>4</td>\n      <td>Brightness</td>\n      <td>1.924116</td>\n      <td>1.0</td>\n    </tr>\n    <tr>\n      <th>5</th>\n      <td>2</td>\n      <td>6</td>\n      <td>Greenness</td>\n      <td>1.906002</td>\n      <td>1.0</td>\n    </tr>\n    <tr>\n      <th>22</th>\n      <td>2</td>\n      <td>8</td>\n      <td>VV</td>\n      <td>1.875021</td>\n      <td>1.0</td>\n    </tr>\n    <tr>\n      <th>10</th>\n      <td>5</td>\n      <td>8</td>\n      <td>HV</td>\n      <td>1.333106</td>\n      <td>1.0</td>\n    </tr>\n    <tr>\n      <th>22</th>\n      <td>2</td>\n      <td>7</td>\n      <td>VV</td>\n      <td>1.760779</td>\n      <td>1.0</td>\n    </tr>\n    <tr>\n      <th>12</th>\n      <td>4</td>\n      <td>8</td>\n      <td>MeanCurvature</td>\n      <td>1.004729</td>\n      <td>1.0</td>\n    </tr>\n    <tr>\n      <th>10</th>\n      <td>1</td>\n      <td>8</td>\n      <td>HV</td>\n      <td>1.377951</td>\n      <td>1.0</td>\n    </tr>\n    <tr>\n      <th>3</th>\n      <td>1</td>\n      <td>7</td>\n      <td>Elevation</td>\n      <td>1.527829</td>\n      <td>1.0</td>\n    </tr>\n    <tr>\n      <th>38</th>\n      <td>3</td>\n      <td>6</td>\n      <td>a_spri_b08a_20m</td>\n      <td>1.970697</td>\n      <td>1.0</td>\n    </tr>\n    <tr>\n      <th>63</th>\n      <td>3</td>\n      <td>5</td>\n      <td>c_fall_b08a_20m</td>\n      <td>1.913569</td>\n      <td>1.0</td>\n    </tr>\n    <tr>\n      <th>60</th>\n      <td>3</td>\n      <td>8</td>\n      <td>c_fall_b06_20m</td>\n      <td>1.929027</td>\n      <td>1.0</td>\n    </tr>\n    <tr>\n      <th>17</th>\n      <td>1</td>\n      <td>3</td>\n      <td>SAVI_1</td>\n      <td>1.666849</td>\n      <td>1.0</td>\n    </tr>\n    <tr>\n      <th>3</th>\n      <td>5</td>\n      <td>7</td>\n      <td>Elevation</td>\n      <td>1.552423</td>\n      <td>1.0</td>\n    </tr>\n    <tr>\n      <th>3</th>\n      <td>4</td>\n      <td>7</td>\n      <td>Elevation</td>\n      <td>1.584055</td>\n      <td>1.0</td>\n    </tr>\n    <tr>\n      <th>61</th>\n      <td>2</td>\n      <td>3</td>\n      <td>c_fall_b07_20m</td>\n      <td>1.394563</td>\n      <td>1.0</td>\n    </tr>\n    <tr>\n      <th>34</th>\n      <td>3</td>\n      <td>7</td>\n      <td>a_spri_b05_20m</td>\n      <td>1.905465</td>\n      <td>1.0</td>\n    </tr>\n    <tr>\n      <th>7</th>\n      <td>1</td>\n      <td>5</td>\n      <td>Greenness_2</td>\n      <td>0.735020</td>\n      <td>1.0</td>\n    </tr>\n  </tbody>\n</table>\n</div>"
     },
     "execution_count": 9,
     "metadata": {},
     "output_type": "execute_result"
    }
   ],
   "source": [
    "scores[scores['rank'] == 1]"
   ],
   "metadata": {
    "collapsed": false,
    "ExecuteTime": {
     "end_time": "2023-08-28T17:55:41.777023600Z",
     "start_time": "2023-08-28T17:55:41.755485800Z"
    }
   },
   "id": "d3af80ca3d24dc81"
  },
  {
   "cell_type": "code",
   "execution_count": null,
   "outputs": [],
   "source": [],
   "metadata": {
    "collapsed": false
   },
   "id": "93e2d7ca9e66523e"
  }
 ],
 "metadata": {
  "kernelspec": {
   "display_name": "Python 3",
   "language": "python",
   "name": "python3"
  },
  "language_info": {
   "codemirror_mode": {
    "name": "ipython",
    "version": 2
   },
   "file_extension": ".py",
   "mimetype": "text/x-python",
   "name": "python",
   "nbconvert_exporter": "python",
   "pygments_lexer": "ipython2",
   "version": "2.7.6"
  }
 },
 "nbformat": 4,
 "nbformat_minor": 5
}
